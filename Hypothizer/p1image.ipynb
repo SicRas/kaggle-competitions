{
 "cells": [
  {
   "cell_type": "code",
   "execution_count": 6,
   "metadata": {},
   "outputs": [
    {
     "ename": "SyntaxError",
     "evalue": "invalid syntax (<ipython-input-6-24a96c266a72>, line 17)",
     "output_type": "error",
     "traceback": [
      "\u001b[0;36m  File \u001b[0;32m\"<ipython-input-6-24a96c266a72>\"\u001b[0;36m, line \u001b[0;32m17\u001b[0m\n\u001b[0;31m    print image_to_string(Image.open(path_name))\u001b[0m\n\u001b[0m                        ^\u001b[0m\n\u001b[0;31mSyntaxError\u001b[0m\u001b[0;31m:\u001b[0m invalid syntax\n"
     ]
    }
   ],
   "source": [
    "# from PIL import Image, ExifTags\n",
    "# import PIL\n",
    "# img = Image.open(\"./train_images/14743.png\")\n",
    "# img.show()\n",
    "# exif = { ExifTags.TAGS[k]: v for k, v in img._getexif().items() if k in ExifTags.TAGS }\n",
    "\n",
    "path_name = \"./train_images/14743.png\"\n",
    "# meta_data =  ImageMetaData(path_name)\n",
    "# latlng =meta_data.get_lat_lng()\n",
    "# print(latlng)\n",
    "# exif_data = meta_data.get_exif_data()\n",
    "# print(exif_data)\n",
    "\n",
    "import Image\n",
    "from tesseract import image_to_string\n",
    "\n",
    "print image_to_string(Image.open(path_name))\n",
    "print image_to_string(Image.open(path_name), lang='eng')"
   ]
  }
 ],
 "metadata": {
  "kernelspec": {
   "display_name": "Python 3",
   "language": "python",
   "name": "python3"
  },
  "language_info": {
   "codemirror_mode": {
    "name": "ipython",
    "version": 3
   },
   "file_extension": ".py",
   "mimetype": "text/x-python",
   "name": "python",
   "nbconvert_exporter": "python",
   "pygments_lexer": "ipython3",
   "version": "3.5.2"
  }
 },
 "nbformat": 4,
 "nbformat_minor": 2
}
