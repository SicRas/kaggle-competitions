{
 "cells": [
  {
   "cell_type": "markdown",
   "metadata": {},
   "source": [
    "This is step by step procedure to get the 80.51% accuracy in the online competition. The highest accuracy is 82.85 as of now on 05/26/2018.\n",
    "\n",
    "In this notebook, for hit and trial, I have also used Boruta library to select the best features. And surprisingly it gave the best result 80.51. "
   ]
  },
  {
   "cell_type": "code",
   "execution_count": 2,
   "metadata": {},
   "outputs": [],
   "source": [
    "import pandas as pd\n",
    "import numpy as np\n",
    "import matplotlib.pyplot as plt\n",
    "%matplotlib inline \n",
    "import seaborn as sns"
   ]
  },
  {
   "cell_type": "code",
   "execution_count": 3,
   "metadata": {},
   "outputs": [],
   "source": [
    "train_values = pd.read_csv(\"Train_values.csv\")\n",
    "train_labels = pd.read_csv(\"Train_labels.csv\")"
   ]
  },
  {
   "cell_type": "code",
   "execution_count": 7,
   "metadata": {},
   "outputs": [
    {
     "data": {
      "text/html": [
       "<div>\n",
       "<style scoped>\n",
       "    .dataframe tbody tr th:only-of-type {\n",
       "        vertical-align: middle;\n",
       "    }\n",
       "\n",
       "    .dataframe tbody tr th {\n",
       "        vertical-align: top;\n",
       "    }\n",
       "\n",
       "    .dataframe thead th {\n",
       "        text-align: right;\n",
       "    }\n",
       "</style>\n",
       "<table border=\"1\" class=\"dataframe\">\n",
       "  <thead>\n",
       "    <tr style=\"text-align: right;\">\n",
       "      <th></th>\n",
       "      <th>id</th>\n",
       "      <th>amount_tsh</th>\n",
       "      <th>date_recorded</th>\n",
       "      <th>funder</th>\n",
       "      <th>gps_height</th>\n",
       "      <th>installer</th>\n",
       "      <th>longitude</th>\n",
       "      <th>latitude</th>\n",
       "      <th>wpt_name</th>\n",
       "      <th>num_private</th>\n",
       "      <th>...</th>\n",
       "      <th>water_quality</th>\n",
       "      <th>quality_group</th>\n",
       "      <th>quantity</th>\n",
       "      <th>quantity_group</th>\n",
       "      <th>source</th>\n",
       "      <th>source_type</th>\n",
       "      <th>source_class</th>\n",
       "      <th>waterpoint_type</th>\n",
       "      <th>waterpoint_type_group</th>\n",
       "      <th>status_group</th>\n",
       "    </tr>\n",
       "  </thead>\n",
       "  <tbody>\n",
       "    <tr>\n",
       "      <th>0</th>\n",
       "      <td>69572</td>\n",
       "      <td>6000.0</td>\n",
       "      <td>2011-03-14</td>\n",
       "      <td>Roman</td>\n",
       "      <td>1390</td>\n",
       "      <td>Roman</td>\n",
       "      <td>34.938093</td>\n",
       "      <td>-9.856322</td>\n",
       "      <td>none</td>\n",
       "      <td>0</td>\n",
       "      <td>...</td>\n",
       "      <td>soft</td>\n",
       "      <td>good</td>\n",
       "      <td>enough</td>\n",
       "      <td>enough</td>\n",
       "      <td>spring</td>\n",
       "      <td>spring</td>\n",
       "      <td>groundwater</td>\n",
       "      <td>communal standpipe</td>\n",
       "      <td>communal standpipe</td>\n",
       "      <td>functional</td>\n",
       "    </tr>\n",
       "    <tr>\n",
       "      <th>1</th>\n",
       "      <td>8776</td>\n",
       "      <td>0.0</td>\n",
       "      <td>2013-03-06</td>\n",
       "      <td>Grumeti</td>\n",
       "      <td>1399</td>\n",
       "      <td>GRUMETI</td>\n",
       "      <td>34.698766</td>\n",
       "      <td>-2.147466</td>\n",
       "      <td>Zahanati</td>\n",
       "      <td>0</td>\n",
       "      <td>...</td>\n",
       "      <td>soft</td>\n",
       "      <td>good</td>\n",
       "      <td>insufficient</td>\n",
       "      <td>insufficient</td>\n",
       "      <td>rainwater harvesting</td>\n",
       "      <td>rainwater harvesting</td>\n",
       "      <td>surface</td>\n",
       "      <td>communal standpipe</td>\n",
       "      <td>communal standpipe</td>\n",
       "      <td>functional</td>\n",
       "    </tr>\n",
       "    <tr>\n",
       "      <th>2</th>\n",
       "      <td>34310</td>\n",
       "      <td>25.0</td>\n",
       "      <td>2013-02-25</td>\n",
       "      <td>Lottery Club</td>\n",
       "      <td>686</td>\n",
       "      <td>World vision</td>\n",
       "      <td>37.460664</td>\n",
       "      <td>-3.821329</td>\n",
       "      <td>Kwa Mahundi</td>\n",
       "      <td>0</td>\n",
       "      <td>...</td>\n",
       "      <td>soft</td>\n",
       "      <td>good</td>\n",
       "      <td>enough</td>\n",
       "      <td>enough</td>\n",
       "      <td>dam</td>\n",
       "      <td>dam</td>\n",
       "      <td>surface</td>\n",
       "      <td>communal standpipe multiple</td>\n",
       "      <td>communal standpipe</td>\n",
       "      <td>functional</td>\n",
       "    </tr>\n",
       "    <tr>\n",
       "      <th>3</th>\n",
       "      <td>67743</td>\n",
       "      <td>0.0</td>\n",
       "      <td>2013-01-28</td>\n",
       "      <td>Unicef</td>\n",
       "      <td>263</td>\n",
       "      <td>UNICEF</td>\n",
       "      <td>38.486161</td>\n",
       "      <td>-11.155298</td>\n",
       "      <td>Zahanati Ya Nanyumbu</td>\n",
       "      <td>0</td>\n",
       "      <td>...</td>\n",
       "      <td>soft</td>\n",
       "      <td>good</td>\n",
       "      <td>dry</td>\n",
       "      <td>dry</td>\n",
       "      <td>machine dbh</td>\n",
       "      <td>borehole</td>\n",
       "      <td>groundwater</td>\n",
       "      <td>communal standpipe multiple</td>\n",
       "      <td>communal standpipe</td>\n",
       "      <td>non functional</td>\n",
       "    </tr>\n",
       "    <tr>\n",
       "      <th>4</th>\n",
       "      <td>19728</td>\n",
       "      <td>0.0</td>\n",
       "      <td>2011-07-13</td>\n",
       "      <td>Action In A</td>\n",
       "      <td>0</td>\n",
       "      <td>Artisan</td>\n",
       "      <td>31.130847</td>\n",
       "      <td>-1.825359</td>\n",
       "      <td>Shuleni</td>\n",
       "      <td>0</td>\n",
       "      <td>...</td>\n",
       "      <td>soft</td>\n",
       "      <td>good</td>\n",
       "      <td>seasonal</td>\n",
       "      <td>seasonal</td>\n",
       "      <td>rainwater harvesting</td>\n",
       "      <td>rainwater harvesting</td>\n",
       "      <td>surface</td>\n",
       "      <td>communal standpipe</td>\n",
       "      <td>communal standpipe</td>\n",
       "      <td>functional</td>\n",
       "    </tr>\n",
       "  </tbody>\n",
       "</table>\n",
       "<p>5 rows × 41 columns</p>\n",
       "</div>"
      ],
      "text/plain": [
       "      id  amount_tsh date_recorded        funder  gps_height     installer  \\\n",
       "0  69572      6000.0    2011-03-14         Roman        1390         Roman   \n",
       "1   8776         0.0    2013-03-06       Grumeti        1399       GRUMETI   \n",
       "2  34310        25.0    2013-02-25  Lottery Club         686  World vision   \n",
       "3  67743         0.0    2013-01-28        Unicef         263        UNICEF   \n",
       "4  19728         0.0    2011-07-13   Action In A           0       Artisan   \n",
       "\n",
       "   longitude   latitude              wpt_name  num_private       ...        \\\n",
       "0  34.938093  -9.856322                  none            0       ...         \n",
       "1  34.698766  -2.147466              Zahanati            0       ...         \n",
       "2  37.460664  -3.821329           Kwa Mahundi            0       ...         \n",
       "3  38.486161 -11.155298  Zahanati Ya Nanyumbu            0       ...         \n",
       "4  31.130847  -1.825359               Shuleni            0       ...         \n",
       "\n",
       "  water_quality quality_group      quantity  quantity_group  \\\n",
       "0          soft          good        enough          enough   \n",
       "1          soft          good  insufficient    insufficient   \n",
       "2          soft          good        enough          enough   \n",
       "3          soft          good           dry             dry   \n",
       "4          soft          good      seasonal        seasonal   \n",
       "\n",
       "                 source           source_type source_class  \\\n",
       "0                spring                spring  groundwater   \n",
       "1  rainwater harvesting  rainwater harvesting      surface   \n",
       "2                   dam                   dam      surface   \n",
       "3           machine dbh              borehole  groundwater   \n",
       "4  rainwater harvesting  rainwater harvesting      surface   \n",
       "\n",
       "               waterpoint_type waterpoint_type_group    status_group  \n",
       "0           communal standpipe    communal standpipe      functional  \n",
       "1           communal standpipe    communal standpipe      functional  \n",
       "2  communal standpipe multiple    communal standpipe      functional  \n",
       "3  communal standpipe multiple    communal standpipe  non functional  \n",
       "4           communal standpipe    communal standpipe      functional  \n",
       "\n",
       "[5 rows x 41 columns]"
      ]
     },
     "execution_count": 7,
     "metadata": {},
     "output_type": "execute_result"
    }
   ],
   "source": [
    "train = train_values.merge(train_labels,on='id',how='inner')\n",
    "train.head()"
   ]
  },
  {
   "cell_type": "code",
   "execution_count": 706,
   "metadata": {},
   "outputs": [],
   "source": [
    "test=pd.read_csv('Test_values.csv')\n",
    "test_copy=test.copy()"
   ]
  },
  {
   "cell_type": "code",
   "execution_count": 707,
   "metadata": {},
   "outputs": [
    {
     "data": {
      "text/html": [
       "<div>\n",
       "<style scoped>\n",
       "    .dataframe tbody tr th:only-of-type {\n",
       "        vertical-align: middle;\n",
       "    }\n",
       "\n",
       "    .dataframe tbody tr th {\n",
       "        vertical-align: top;\n",
       "    }\n",
       "\n",
       "    .dataframe thead th {\n",
       "        text-align: right;\n",
       "    }\n",
       "</style>\n",
       "<table border=\"1\" class=\"dataframe\">\n",
       "  <thead>\n",
       "    <tr style=\"text-align: right;\">\n",
       "      <th></th>\n",
       "      <th>id</th>\n",
       "      <th>amount_tsh</th>\n",
       "      <th>date_recorded</th>\n",
       "      <th>funder</th>\n",
       "      <th>gps_height</th>\n",
       "      <th>installer</th>\n",
       "      <th>longitude</th>\n",
       "      <th>latitude</th>\n",
       "      <th>wpt_name</th>\n",
       "      <th>num_private</th>\n",
       "      <th>...</th>\n",
       "      <th>water_quality</th>\n",
       "      <th>quality_group</th>\n",
       "      <th>quantity</th>\n",
       "      <th>quantity_group</th>\n",
       "      <th>source</th>\n",
       "      <th>source_type</th>\n",
       "      <th>source_class</th>\n",
       "      <th>waterpoint_type</th>\n",
       "      <th>waterpoint_type_group</th>\n",
       "      <th>status_group</th>\n",
       "    </tr>\n",
       "  </thead>\n",
       "  <tbody>\n",
       "    <tr>\n",
       "      <th>0</th>\n",
       "      <td>69572</td>\n",
       "      <td>6000.0</td>\n",
       "      <td>2011-03-14</td>\n",
       "      <td>Roman</td>\n",
       "      <td>1390</td>\n",
       "      <td>Roman</td>\n",
       "      <td>34.938093</td>\n",
       "      <td>-9.856322</td>\n",
       "      <td>none</td>\n",
       "      <td>0</td>\n",
       "      <td>...</td>\n",
       "      <td>soft</td>\n",
       "      <td>good</td>\n",
       "      <td>enough</td>\n",
       "      <td>enough</td>\n",
       "      <td>spring</td>\n",
       "      <td>spring</td>\n",
       "      <td>groundwater</td>\n",
       "      <td>communal standpipe</td>\n",
       "      <td>communal standpipe</td>\n",
       "      <td>functional</td>\n",
       "    </tr>\n",
       "    <tr>\n",
       "      <th>1</th>\n",
       "      <td>8776</td>\n",
       "      <td>0.0</td>\n",
       "      <td>2013-03-06</td>\n",
       "      <td>Grumeti</td>\n",
       "      <td>1399</td>\n",
       "      <td>GRUMETI</td>\n",
       "      <td>34.698766</td>\n",
       "      <td>-2.147466</td>\n",
       "      <td>Zahanati</td>\n",
       "      <td>0</td>\n",
       "      <td>...</td>\n",
       "      <td>soft</td>\n",
       "      <td>good</td>\n",
       "      <td>insufficient</td>\n",
       "      <td>insufficient</td>\n",
       "      <td>rainwater harvesting</td>\n",
       "      <td>rainwater harvesting</td>\n",
       "      <td>surface</td>\n",
       "      <td>communal standpipe</td>\n",
       "      <td>communal standpipe</td>\n",
       "      <td>functional</td>\n",
       "    </tr>\n",
       "    <tr>\n",
       "      <th>2</th>\n",
       "      <td>34310</td>\n",
       "      <td>25.0</td>\n",
       "      <td>2013-02-25</td>\n",
       "      <td>Lottery Club</td>\n",
       "      <td>686</td>\n",
       "      <td>World vision</td>\n",
       "      <td>37.460664</td>\n",
       "      <td>-3.821329</td>\n",
       "      <td>Kwa Mahundi</td>\n",
       "      <td>0</td>\n",
       "      <td>...</td>\n",
       "      <td>soft</td>\n",
       "      <td>good</td>\n",
       "      <td>enough</td>\n",
       "      <td>enough</td>\n",
       "      <td>dam</td>\n",
       "      <td>dam</td>\n",
       "      <td>surface</td>\n",
       "      <td>communal standpipe multiple</td>\n",
       "      <td>communal standpipe</td>\n",
       "      <td>functional</td>\n",
       "    </tr>\n",
       "    <tr>\n",
       "      <th>3</th>\n",
       "      <td>67743</td>\n",
       "      <td>0.0</td>\n",
       "      <td>2013-01-28</td>\n",
       "      <td>Unicef</td>\n",
       "      <td>263</td>\n",
       "      <td>UNICEF</td>\n",
       "      <td>38.486161</td>\n",
       "      <td>-11.155298</td>\n",
       "      <td>Zahanati Ya Nanyumbu</td>\n",
       "      <td>0</td>\n",
       "      <td>...</td>\n",
       "      <td>soft</td>\n",
       "      <td>good</td>\n",
       "      <td>dry</td>\n",
       "      <td>dry</td>\n",
       "      <td>machine dbh</td>\n",
       "      <td>borehole</td>\n",
       "      <td>groundwater</td>\n",
       "      <td>communal standpipe multiple</td>\n",
       "      <td>communal standpipe</td>\n",
       "      <td>non functional</td>\n",
       "    </tr>\n",
       "    <tr>\n",
       "      <th>4</th>\n",
       "      <td>19728</td>\n",
       "      <td>0.0</td>\n",
       "      <td>2011-07-13</td>\n",
       "      <td>Action In A</td>\n",
       "      <td>0</td>\n",
       "      <td>Artisan</td>\n",
       "      <td>31.130847</td>\n",
       "      <td>-1.825359</td>\n",
       "      <td>Shuleni</td>\n",
       "      <td>0</td>\n",
       "      <td>...</td>\n",
       "      <td>soft</td>\n",
       "      <td>good</td>\n",
       "      <td>seasonal</td>\n",
       "      <td>seasonal</td>\n",
       "      <td>rainwater harvesting</td>\n",
       "      <td>rainwater harvesting</td>\n",
       "      <td>surface</td>\n",
       "      <td>communal standpipe</td>\n",
       "      <td>communal standpipe</td>\n",
       "      <td>functional</td>\n",
       "    </tr>\n",
       "  </tbody>\n",
       "</table>\n",
       "<p>5 rows × 41 columns</p>\n",
       "</div>"
      ],
      "text/plain": [
       "      id  amount_tsh date_recorded        funder  gps_height     installer  \\\n",
       "0  69572      6000.0    2011-03-14         Roman        1390         Roman   \n",
       "1   8776         0.0    2013-03-06       Grumeti        1399       GRUMETI   \n",
       "2  34310        25.0    2013-02-25  Lottery Club         686  World vision   \n",
       "3  67743         0.0    2013-01-28        Unicef         263        UNICEF   \n",
       "4  19728         0.0    2011-07-13   Action In A           0       Artisan   \n",
       "\n",
       "   longitude   latitude              wpt_name  num_private       ...        \\\n",
       "0  34.938093  -9.856322                  none            0       ...         \n",
       "1  34.698766  -2.147466              Zahanati            0       ...         \n",
       "2  37.460664  -3.821329           Kwa Mahundi            0       ...         \n",
       "3  38.486161 -11.155298  Zahanati Ya Nanyumbu            0       ...         \n",
       "4  31.130847  -1.825359               Shuleni            0       ...         \n",
       "\n",
       "  water_quality quality_group      quantity  quantity_group  \\\n",
       "0          soft          good        enough          enough   \n",
       "1          soft          good  insufficient    insufficient   \n",
       "2          soft          good        enough          enough   \n",
       "3          soft          good           dry             dry   \n",
       "4          soft          good      seasonal        seasonal   \n",
       "\n",
       "                 source           source_type source_class  \\\n",
       "0                spring                spring  groundwater   \n",
       "1  rainwater harvesting  rainwater harvesting      surface   \n",
       "2                   dam                   dam      surface   \n",
       "3           machine dbh              borehole  groundwater   \n",
       "4  rainwater harvesting  rainwater harvesting      surface   \n",
       "\n",
       "               waterpoint_type waterpoint_type_group    status_group  \n",
       "0           communal standpipe    communal standpipe      functional  \n",
       "1           communal standpipe    communal standpipe      functional  \n",
       "2  communal standpipe multiple    communal standpipe      functional  \n",
       "3  communal standpipe multiple    communal standpipe  non functional  \n",
       "4           communal standpipe    communal standpipe      functional  \n",
       "\n",
       "[5 rows x 41 columns]"
      ]
     },
     "execution_count": 707,
     "metadata": {},
     "output_type": "execute_result"
    }
   ],
   "source": [
    "train.head()"
   ]
  },
  {
   "cell_type": "code",
   "execution_count": 708,
   "metadata": {},
   "outputs": [
    {
     "data": {
      "text/html": [
       "<div>\n",
       "<style scoped>\n",
       "    .dataframe tbody tr th:only-of-type {\n",
       "        vertical-align: middle;\n",
       "    }\n",
       "\n",
       "    .dataframe tbody tr th {\n",
       "        vertical-align: top;\n",
       "    }\n",
       "\n",
       "    .dataframe thead th {\n",
       "        text-align: right;\n",
       "    }\n",
       "</style>\n",
       "<table border=\"1\" class=\"dataframe\">\n",
       "  <thead>\n",
       "    <tr style=\"text-align: right;\">\n",
       "      <th></th>\n",
       "      <th>id</th>\n",
       "      <th>amount_tsh</th>\n",
       "      <th>gps_height</th>\n",
       "      <th>longitude</th>\n",
       "      <th>latitude</th>\n",
       "      <th>num_private</th>\n",
       "      <th>region_code</th>\n",
       "      <th>district_code</th>\n",
       "      <th>population</th>\n",
       "      <th>construction_year</th>\n",
       "    </tr>\n",
       "  </thead>\n",
       "  <tbody>\n",
       "    <tr>\n",
       "      <th>count</th>\n",
       "      <td>59400.000000</td>\n",
       "      <td>59400.000000</td>\n",
       "      <td>59400.000000</td>\n",
       "      <td>59400.000000</td>\n",
       "      <td>5.940000e+04</td>\n",
       "      <td>59400.000000</td>\n",
       "      <td>59400.000000</td>\n",
       "      <td>59400.000000</td>\n",
       "      <td>59400.000000</td>\n",
       "      <td>59400.000000</td>\n",
       "    </tr>\n",
       "    <tr>\n",
       "      <th>mean</th>\n",
       "      <td>37115.131768</td>\n",
       "      <td>317.650385</td>\n",
       "      <td>668.297239</td>\n",
       "      <td>34.077427</td>\n",
       "      <td>-5.706033e+00</td>\n",
       "      <td>0.474141</td>\n",
       "      <td>15.297003</td>\n",
       "      <td>5.629747</td>\n",
       "      <td>179.909983</td>\n",
       "      <td>1300.652475</td>\n",
       "    </tr>\n",
       "    <tr>\n",
       "      <th>std</th>\n",
       "      <td>21453.128371</td>\n",
       "      <td>2997.574558</td>\n",
       "      <td>693.116350</td>\n",
       "      <td>6.567432</td>\n",
       "      <td>2.946019e+00</td>\n",
       "      <td>12.236230</td>\n",
       "      <td>17.587406</td>\n",
       "      <td>9.633649</td>\n",
       "      <td>471.482176</td>\n",
       "      <td>951.620547</td>\n",
       "    </tr>\n",
       "    <tr>\n",
       "      <th>min</th>\n",
       "      <td>0.000000</td>\n",
       "      <td>0.000000</td>\n",
       "      <td>-90.000000</td>\n",
       "      <td>0.000000</td>\n",
       "      <td>-1.164944e+01</td>\n",
       "      <td>0.000000</td>\n",
       "      <td>1.000000</td>\n",
       "      <td>0.000000</td>\n",
       "      <td>0.000000</td>\n",
       "      <td>0.000000</td>\n",
       "    </tr>\n",
       "    <tr>\n",
       "      <th>25%</th>\n",
       "      <td>18519.750000</td>\n",
       "      <td>0.000000</td>\n",
       "      <td>0.000000</td>\n",
       "      <td>33.090347</td>\n",
       "      <td>-8.540621e+00</td>\n",
       "      <td>0.000000</td>\n",
       "      <td>5.000000</td>\n",
       "      <td>2.000000</td>\n",
       "      <td>0.000000</td>\n",
       "      <td>0.000000</td>\n",
       "    </tr>\n",
       "    <tr>\n",
       "      <th>50%</th>\n",
       "      <td>37061.500000</td>\n",
       "      <td>0.000000</td>\n",
       "      <td>369.000000</td>\n",
       "      <td>34.908743</td>\n",
       "      <td>-5.021597e+00</td>\n",
       "      <td>0.000000</td>\n",
       "      <td>12.000000</td>\n",
       "      <td>3.000000</td>\n",
       "      <td>25.000000</td>\n",
       "      <td>1986.000000</td>\n",
       "    </tr>\n",
       "    <tr>\n",
       "      <th>75%</th>\n",
       "      <td>55656.500000</td>\n",
       "      <td>20.000000</td>\n",
       "      <td>1319.250000</td>\n",
       "      <td>37.178387</td>\n",
       "      <td>-3.326156e+00</td>\n",
       "      <td>0.000000</td>\n",
       "      <td>17.000000</td>\n",
       "      <td>5.000000</td>\n",
       "      <td>215.000000</td>\n",
       "      <td>2004.000000</td>\n",
       "    </tr>\n",
       "    <tr>\n",
       "      <th>max</th>\n",
       "      <td>74247.000000</td>\n",
       "      <td>350000.000000</td>\n",
       "      <td>2770.000000</td>\n",
       "      <td>40.345193</td>\n",
       "      <td>-2.000000e-08</td>\n",
       "      <td>1776.000000</td>\n",
       "      <td>99.000000</td>\n",
       "      <td>80.000000</td>\n",
       "      <td>30500.000000</td>\n",
       "      <td>2013.000000</td>\n",
       "    </tr>\n",
       "  </tbody>\n",
       "</table>\n",
       "</div>"
      ],
      "text/plain": [
       "                 id     amount_tsh    gps_height     longitude      latitude  \\\n",
       "count  59400.000000   59400.000000  59400.000000  59400.000000  5.940000e+04   \n",
       "mean   37115.131768     317.650385    668.297239     34.077427 -5.706033e+00   \n",
       "std    21453.128371    2997.574558    693.116350      6.567432  2.946019e+00   \n",
       "min        0.000000       0.000000    -90.000000      0.000000 -1.164944e+01   \n",
       "25%    18519.750000       0.000000      0.000000     33.090347 -8.540621e+00   \n",
       "50%    37061.500000       0.000000    369.000000     34.908743 -5.021597e+00   \n",
       "75%    55656.500000      20.000000   1319.250000     37.178387 -3.326156e+00   \n",
       "max    74247.000000  350000.000000   2770.000000     40.345193 -2.000000e-08   \n",
       "\n",
       "        num_private   region_code  district_code    population  \\\n",
       "count  59400.000000  59400.000000   59400.000000  59400.000000   \n",
       "mean       0.474141     15.297003       5.629747    179.909983   \n",
       "std       12.236230     17.587406       9.633649    471.482176   \n",
       "min        0.000000      1.000000       0.000000      0.000000   \n",
       "25%        0.000000      5.000000       2.000000      0.000000   \n",
       "50%        0.000000     12.000000       3.000000     25.000000   \n",
       "75%        0.000000     17.000000       5.000000    215.000000   \n",
       "max     1776.000000     99.000000      80.000000  30500.000000   \n",
       "\n",
       "       construction_year  \n",
       "count       59400.000000  \n",
       "mean         1300.652475  \n",
       "std           951.620547  \n",
       "min             0.000000  \n",
       "25%             0.000000  \n",
       "50%          1986.000000  \n",
       "75%          2004.000000  \n",
       "max          2013.000000  "
      ]
     },
     "execution_count": 708,
     "metadata": {},
     "output_type": "execute_result"
    }
   ],
   "source": [
    "train.describe()"
   ]
  },
  {
   "cell_type": "code",
   "execution_count": 709,
   "metadata": {},
   "outputs": [
    {
     "name": "stdout",
     "output_type": "stream",
     "text": [
      "<class 'pandas.core.frame.DataFrame'>\n",
      "Int64Index: 59400 entries, 0 to 59399\n",
      "Data columns (total 41 columns):\n",
      "id                       59400 non-null int64\n",
      "amount_tsh               59400 non-null float64\n",
      "date_recorded            59400 non-null object\n",
      "funder                   55765 non-null object\n",
      "gps_height               59400 non-null int64\n",
      "installer                55745 non-null object\n",
      "longitude                59400 non-null float64\n",
      "latitude                 59400 non-null float64\n",
      "wpt_name                 59400 non-null object\n",
      "num_private              59400 non-null int64\n",
      "basin                    59400 non-null object\n",
      "subvillage               59029 non-null object\n",
      "region                   59400 non-null object\n",
      "region_code              59400 non-null int64\n",
      "district_code            59400 non-null int64\n",
      "lga                      59400 non-null object\n",
      "ward                     59400 non-null object\n",
      "population               59400 non-null int64\n",
      "public_meeting           56066 non-null object\n",
      "recorded_by              59400 non-null object\n",
      "scheme_management        55523 non-null object\n",
      "scheme_name              31234 non-null object\n",
      "permit                   56344 non-null object\n",
      "construction_year        59400 non-null int64\n",
      "extraction_type          59400 non-null object\n",
      "extraction_type_group    59400 non-null object\n",
      "extraction_type_class    59400 non-null object\n",
      "management               59400 non-null object\n",
      "management_group         59400 non-null object\n",
      "payment                  59400 non-null object\n",
      "payment_type             59400 non-null object\n",
      "water_quality            59400 non-null object\n",
      "quality_group            59400 non-null object\n",
      "quantity                 59400 non-null object\n",
      "quantity_group           59400 non-null object\n",
      "source                   59400 non-null object\n",
      "source_type              59400 non-null object\n",
      "source_class             59400 non-null object\n",
      "waterpoint_type          59400 non-null object\n",
      "waterpoint_type_group    59400 non-null object\n",
      "status_group             59400 non-null object\n",
      "dtypes: float64(3), int64(7), object(31)\n",
      "memory usage: 19.0+ MB\n"
     ]
    }
   ],
   "source": [
    "train.info()"
   ]
  },
  {
   "cell_type": "code",
   "execution_count": 710,
   "metadata": {},
   "outputs": [],
   "source": [
    "#convert status group label into numerical data\n",
    "val_status_group={'functional':2, 'functional needs repair':1,\n",
    "                   'non functional':0}\n",
    "train['status_group_vals']=train.status_group.replace(val_status_group)"
   ]
  },
  {
   "cell_type": "code",
   "execution_count": 711,
   "metadata": {},
   "outputs": [
    {
     "data": {
      "text/plain": [
       "Government Of Tanzania    9084\n",
       "Danida                    3114\n",
       "Hesawa                    2202\n",
       "Rwssp                     1374\n",
       "World Bank                1349\n",
       "Kkkt                      1287\n",
       "World Vision              1246\n",
       "Unicef                    1057\n",
       "Tasaf                      877\n",
       "District Council           843\n",
       "Dhv                        829\n",
       "Private Individual         826\n",
       "Dwsp                       811\n",
       "0                          777\n",
       "Norad                      765\n",
       "Germany Republi            610\n",
       "Tcrs                       602\n",
       "Ministry Of Water          590\n",
       "Water                      583\n",
       "Dwe                        484\n",
       "Netherlands                470\n",
       "Hifab                      450\n",
       "Adb                        448\n",
       "Lga                        442\n",
       "Amref                      425\n",
       "Fini Water                 393\n",
       "Oxfam                      359\n",
       "Wateraid                   333\n",
       "Rc Church                  321\n",
       "Isf                        316\n",
       "                          ... \n",
       "Agt Church                   1\n",
       "Arabi                        1\n",
       "Rwi                          1\n",
       "Shabani Dunia                1\n",
       "Jacobin                      1\n",
       "Friend From Un               1\n",
       "Tquick Wings                 1\n",
       "Mwita Kichere                1\n",
       "Chmavita                     1\n",
       "Muhindi                      1\n",
       "Sekondari                    1\n",
       "Ras                          1\n",
       "Dominiki Simwen              1\n",
       "Noeli Mahobokela             1\n",
       "Sobodo                       1\n",
       "Kassim                       1\n",
       "Segera Estate                1\n",
       "Jumanne Siabo                1\n",
       "Tlc/samora                   1\n",
       "Enyuati                      1\n",
       "John Gileth                  1\n",
       "Mwita Machota                1\n",
       "O                            1\n",
       "Said Omari                   1\n",
       "Tlc/sorri                    1\n",
       "Opec                         1\n",
       "Uniceg                       1\n",
       "Jamal                        1\n",
       "Pema                         1\n",
       "Afriican Reli                1\n",
       "Name: funder, Length: 1897, dtype: int64"
      ]
     },
     "execution_count": 711,
     "metadata": {},
     "output_type": "execute_result"
    }
   ],
   "source": [
    "#Lets focus on each field one by one\n",
    "#funder\n",
    "train['funder'].value_counts()"
   ]
  },
  {
   "cell_type": "code",
   "execution_count": 712,
   "metadata": {},
   "outputs": [],
   "source": [
    "#Lets divide funder column into 5 categories, top 5 will be remained as it is and after that they will be categorised into other\n",
    "def funder_cleaning(train):\n",
    "    if train['funder']=='Government Of Tanzania':\n",
    "        return 'government'\n",
    "    elif train['funder']=='Danida':\n",
    "        return 'danida'\n",
    "    elif train['funder']=='Hesawa':\n",
    "        return 'hesawa'\n",
    "    elif train['funder']=='Rwssp':\n",
    "        return 'rwssp'\n",
    "    elif train['funder']=='World Bank':\n",
    "        return 'world_bank'    \n",
    "    else:\n",
    "        return 'other'\n",
    "    \n",
    "train['funder']= train.apply(lambda row: funder_cleaning(row), axis=1)\n",
    "test['funder']= test.apply(lambda row: funder_cleaning(row), axis=1)"
   ]
  },
  {
   "cell_type": "code",
   "execution_count": 713,
   "metadata": {},
   "outputs": [
    {
     "data": {
      "text/plain": [
       "DWE                           17402\n",
       "Government                     1825\n",
       "RWE                            1206\n",
       "Commu                          1060\n",
       "DANIDA                         1050\n",
       "KKKT                            898\n",
       "Hesawa                          840\n",
       "0                               777\n",
       "TCRS                            707\n",
       "Central government              622\n",
       "CES                             610\n",
       "Community                       553\n",
       "DANID                           552\n",
       "District Council                551\n",
       "HESAWA                          539\n",
       "LGA                             408\n",
       "World vision                    408\n",
       "WEDECO                          397\n",
       "TASAF                           396\n",
       "District council                392\n",
       "Gover                           383\n",
       "AMREF                           329\n",
       "TWESA                           316\n",
       "WU                              301\n",
       "Dmdd                            287\n",
       "ACRA                            278\n",
       "World Vision                    270\n",
       "SEMA                            249\n",
       "DW                              246\n",
       "OXFAM                           234\n",
       "                              ...  \n",
       "Kwamdulu estate                   1\n",
       "Songas                            1\n",
       "Peter Mayiro                      1\n",
       "International Aid Services        1\n",
       "Emmanuel kitaponda                1\n",
       "Anglican Uganda                   1\n",
       "Morrovian                         1\n",
       "Primo                             1\n",
       "QUKWIN                            1\n",
       "Motiba Manyanya                   1\n",
       "The Co                            1\n",
       "Tansi                             1\n",
       "Claver                            1\n",
       "Daniel                            1\n",
       "Institutional                     1\n",
       "Mbwiro                            1\n",
       "Mwakabalula                       1\n",
       "ZINDUKA                           1\n",
       "Misana george                     1\n",
       "SINGIDA  YETU                     1\n",
       "Wizara  ya maji                   1\n",
       "Water Hu                          1\n",
       "WSSP                              1\n",
       "Mark                              1\n",
       "Onesm                             1\n",
       "Theo                              1\n",
       "Wafidh                            1\n",
       "Samweli Kitana                    1\n",
       "Gerald                            1\n",
       "SERENS                            1\n",
       "Name: installer, Length: 2145, dtype: int64"
      ]
     },
     "execution_count": 713,
     "metadata": {},
     "output_type": "execute_result"
    }
   ],
   "source": [
    "#Lets focus on each field one by one\n",
    "#installer\n",
    "train['installer'].value_counts()"
   ]
  },
  {
   "cell_type": "code",
   "execution_count": 714,
   "metadata": {},
   "outputs": [],
   "source": [
    "#Lets divide installer column into 5 categories, top 5 will be remained as it is and after that they will be categorised into other\n",
    "def installer_cleaning(train):\n",
    "    if train['installer']=='DWE':\n",
    "        return 'dwe'\n",
    "    elif train['installer']=='Government':\n",
    "        return 'government'\n",
    "    elif train['installer']=='RWE':\n",
    "        return 'rwe'\n",
    "    elif train['installer']=='Commu':\n",
    "        return 'commu'\n",
    "    elif train['installer']=='DANIDA':\n",
    "        return 'danida'    \n",
    "    else:\n",
    "        return 'other'\n",
    "    \n",
    "train['installer']= train.apply(lambda row: installer_cleaning(row), axis=1)\n",
    "test['installer']= test.apply(lambda row: installer_cleaning(row), axis=1)"
   ]
  },
  {
   "cell_type": "code",
   "execution_count": 715,
   "metadata": {},
   "outputs": [
    {
     "data": {
      "text/plain": [
       "id                           0\n",
       "amount_tsh                   0\n",
       "date_recorded                0\n",
       "funder                       0\n",
       "gps_height                   0\n",
       "installer                    0\n",
       "longitude                    0\n",
       "latitude                     0\n",
       "wpt_name                     0\n",
       "num_private                  0\n",
       "basin                        0\n",
       "subvillage                 371\n",
       "region                       0\n",
       "region_code                  0\n",
       "district_code                0\n",
       "lga                          0\n",
       "ward                         0\n",
       "population                   0\n",
       "public_meeting            3334\n",
       "recorded_by                  0\n",
       "scheme_management         3877\n",
       "scheme_name              28166\n",
       "permit                    3056\n",
       "construction_year            0\n",
       "extraction_type              0\n",
       "extraction_type_group        0\n",
       "extraction_type_class        0\n",
       "management                   0\n",
       "management_group             0\n",
       "payment                      0\n",
       "payment_type                 0\n",
       "water_quality                0\n",
       "quality_group                0\n",
       "quantity                     0\n",
       "quantity_group               0\n",
       "source                       0\n",
       "source_type                  0\n",
       "source_class                 0\n",
       "waterpoint_type              0\n",
       "waterpoint_type_group        0\n",
       "status_group                 0\n",
       "status_group_vals            0\n",
       "dtype: int64"
      ]
     },
     "execution_count": 715,
     "metadata": {},
     "output_type": "execute_result"
    }
   ],
   "source": [
    "#EDA\n",
    "# Checking Null Values on training data\n",
    "train.apply(lambda x: sum(x.isnull()), axis=0)"
   ]
  },
  {
   "cell_type": "code",
   "execution_count": 716,
   "metadata": {},
   "outputs": [
    {
     "data": {
      "text/html": [
       "<div>\n",
       "<style scoped>\n",
       "    .dataframe tbody tr th:only-of-type {\n",
       "        vertical-align: middle;\n",
       "    }\n",
       "\n",
       "    .dataframe tbody tr th {\n",
       "        vertical-align: top;\n",
       "    }\n",
       "\n",
       "    .dataframe thead th {\n",
       "        text-align: right;\n",
       "    }\n",
       "</style>\n",
       "<table border=\"1\" class=\"dataframe\">\n",
       "  <thead>\n",
       "    <tr style=\"text-align: right;\">\n",
       "      <th></th>\n",
       "      <th></th>\n",
       "      <th>status_group_vals</th>\n",
       "    </tr>\n",
       "    <tr>\n",
       "      <th>funder</th>\n",
       "      <th>status_group</th>\n",
       "      <th></th>\n",
       "    </tr>\n",
       "  </thead>\n",
       "  <tbody>\n",
       "    <tr>\n",
       "      <th rowspan=\"3\" valign=\"top\">danida</th>\n",
       "      <th>functional</th>\n",
       "      <td>1713</td>\n",
       "    </tr>\n",
       "    <tr>\n",
       "      <th>functional needs repair</th>\n",
       "      <td>159</td>\n",
       "    </tr>\n",
       "    <tr>\n",
       "      <th>non functional</th>\n",
       "      <td>1242</td>\n",
       "    </tr>\n",
       "    <tr>\n",
       "      <th rowspan=\"3\" valign=\"top\">government</th>\n",
       "      <th>functional</th>\n",
       "      <td>3720</td>\n",
       "    </tr>\n",
       "    <tr>\n",
       "      <th>functional needs repair</th>\n",
       "      <td>701</td>\n",
       "    </tr>\n",
       "    <tr>\n",
       "      <th>non functional</th>\n",
       "      <td>4663</td>\n",
       "    </tr>\n",
       "    <tr>\n",
       "      <th rowspan=\"3\" valign=\"top\">hesawa</th>\n",
       "      <th>functional</th>\n",
       "      <td>936</td>\n",
       "    </tr>\n",
       "    <tr>\n",
       "      <th>functional needs repair</th>\n",
       "      <td>232</td>\n",
       "    </tr>\n",
       "    <tr>\n",
       "      <th>non functional</th>\n",
       "      <td>1034</td>\n",
       "    </tr>\n",
       "    <tr>\n",
       "      <th rowspan=\"3\" valign=\"top\">other</th>\n",
       "      <th>functional</th>\n",
       "      <td>24540</td>\n",
       "    </tr>\n",
       "    <tr>\n",
       "      <th>functional needs repair</th>\n",
       "      <td>3019</td>\n",
       "    </tr>\n",
       "    <tr>\n",
       "      <th>non functional</th>\n",
       "      <td>14718</td>\n",
       "    </tr>\n",
       "    <tr>\n",
       "      <th rowspan=\"3\" valign=\"top\">rwssp</th>\n",
       "      <th>functional</th>\n",
       "      <td>805</td>\n",
       "    </tr>\n",
       "    <tr>\n",
       "      <th>functional needs repair</th>\n",
       "      <td>109</td>\n",
       "    </tr>\n",
       "    <tr>\n",
       "      <th>non functional</th>\n",
       "      <td>460</td>\n",
       "    </tr>\n",
       "    <tr>\n",
       "      <th rowspan=\"3\" valign=\"top\">world_bank</th>\n",
       "      <th>functional</th>\n",
       "      <td>545</td>\n",
       "    </tr>\n",
       "    <tr>\n",
       "      <th>functional needs repair</th>\n",
       "      <td>97</td>\n",
       "    </tr>\n",
       "    <tr>\n",
       "      <th>non functional</th>\n",
       "      <td>707</td>\n",
       "    </tr>\n",
       "  </tbody>\n",
       "</table>\n",
       "</div>"
      ],
      "text/plain": [
       "                                    status_group_vals\n",
       "funder     status_group                              \n",
       "danida     functional                            1713\n",
       "           functional needs repair                159\n",
       "           non functional                        1242\n",
       "government functional                            3720\n",
       "           functional needs repair                701\n",
       "           non functional                        4663\n",
       "hesawa     functional                             936\n",
       "           functional needs repair                232\n",
       "           non functional                        1034\n",
       "other      functional                           24540\n",
       "           functional needs repair               3019\n",
       "           non functional                       14718\n",
       "rwssp      functional                             805\n",
       "           functional needs repair                109\n",
       "           non functional                         460\n",
       "world_bank functional                             545\n",
       "           functional needs repair                 97\n",
       "           non functional                         707"
      ]
     },
     "execution_count": 716,
     "metadata": {},
     "output_type": "execute_result"
    }
   ],
   "source": [
    "piv_table  = pd.pivot_table(train,index=['funder','status_group'],\n",
    "                           values='status_group_vals', aggfunc='count')\n",
    "piv_table"
   ]
  },
  {
   "cell_type": "code",
   "execution_count": 717,
   "metadata": {},
   "outputs": [
    {
     "data": {
      "text/plain": [
       "Madukani                  508\n",
       "Shuleni                   506\n",
       "Majengo                   502\n",
       "Kati                      373\n",
       "Mtakuja                   262\n",
       "Sokoni                    232\n",
       "M                         187\n",
       "Muungano                  172\n",
       "Mbuyuni                   164\n",
       "Mlimani                   152\n",
       "Songambele                147\n",
       "Msikitini                 134\n",
       "Miembeni                  134\n",
       "1                         132\n",
       "Kibaoni                   114\n",
       "Kanisani                  111\n",
       "I                         109\n",
       "Mapinduzi                 109\n",
       "Mjini                     108\n",
       "Mjimwema                  108\n",
       "Mkwajuni                  104\n",
       "Mwenge                    102\n",
       "Mabatini                   98\n",
       "Azimio                     98\n",
       "Mission                    95\n",
       "Mbugani                    95\n",
       "Bwawani                    91\n",
       "Bondeni                    90\n",
       "Chang'Ombe                 88\n",
       "Zahanati                   86\n",
       "                         ... \n",
       "Fumagila Magharib           1\n",
       "Maili Kumi                  1\n",
       "Bukuba A                    1\n",
       "Lyambamgongo                1\n",
       "Uswahhilini Machinjion      1\n",
       "Mlamboi A                   1\n",
       "Emurua                      1\n",
       "Ifubyanzige                 1\n",
       "Mkiwa                       1\n",
       "Mgelema A                   1\n",
       "Mwampangabule               1\n",
       "No 10                       1\n",
       "Kizuli                      1\n",
       "Dugai                       1\n",
       "Silimka                     1\n",
       "Kaumbu Kati                 1\n",
       "Mahorosho                   1\n",
       "Msingeni                    1\n",
       "Kisagarani B                1\n",
       "Ngombe                      1\n",
       "Igalamya                    1\n",
       "Mzslendo                    1\n",
       "Lezaboni                    1\n",
       "Imonyo                      1\n",
       "Ugomakinga                  1\n",
       "Matutu                      1\n",
       "Kifumbu                     1\n",
       "Muyaga B                    1\n",
       "Ndeme Mashariki             1\n",
       "Ngili                       1\n",
       "Name: subvillage, Length: 19287, dtype: int64"
      ]
     },
     "execution_count": 717,
     "metadata": {},
     "output_type": "execute_result"
    }
   ],
   "source": [
    "#Like funder and installer it is hard to categorize them into 5 or 6 subvillages because values are not dominating \n",
    "#and 19287 unique values are there and the top values are not dominating though\n",
    "\n",
    "train['subvillage'].value_counts()\n",
    "\n",
    "#better to drop this column"
   ]
  },
  {
   "cell_type": "code",
   "execution_count": 718,
   "metadata": {},
   "outputs": [],
   "source": [
    "train=train.drop(['subvillage'],axis=1)\n",
    "test=test.drop(['subvillage'],axis=1)"
   ]
  },
  {
   "cell_type": "code",
   "execution_count": 719,
   "metadata": {},
   "outputs": [
    {
     "data": {
      "text/plain": [
       "True     51011\n",
       "False     5055\n",
       "Name: public_meeting, dtype: int64"
      ]
     },
     "execution_count": 719,
     "metadata": {},
     "output_type": "execute_result"
    }
   ],
   "source": [
    "#public_meeting\n",
    "train['public_meeting'].value_counts()"
   ]
  },
  {
   "cell_type": "code",
   "execution_count": 720,
   "metadata": {},
   "outputs": [],
   "source": [
    "#Since most of the values are True, as of now lets insert True for the missing values. Scope to alter the values in future\n",
    "train.public_meeting = train.public_meeting.fillna('Unknown')\n",
    "test.public_meeting = test.public_meeting.fillna('Unknown')"
   ]
  },
  {
   "cell_type": "code",
   "execution_count": 721,
   "metadata": {},
   "outputs": [
    {
     "data": {
      "text/plain": [
       "VWC                 36793\n",
       "WUG                  5206\n",
       "Water authority      3153\n",
       "WUA                  2883\n",
       "Water Board          2748\n",
       "Parastatal           1680\n",
       "Private operator     1063\n",
       "Company              1061\n",
       "Other                 766\n",
       "SWC                    97\n",
       "Trust                  72\n",
       "None                    1\n",
       "Name: scheme_management, dtype: int64"
      ]
     },
     "execution_count": 721,
     "metadata": {},
     "output_type": "execute_result"
    }
   ],
   "source": [
    "#Scheme Management\n",
    "train['scheme_management'].value_counts()"
   ]
  },
  {
   "cell_type": "code",
   "execution_count": 722,
   "metadata": {},
   "outputs": [],
   "source": [
    "# Create a function to reduce the amount of dummy columns needed whilst maintaining the \n",
    "# information contained in the column.\n",
    "\n",
    "def scheme_wrangler(row):\n",
    "    '''Keep top 5 values and set the rest to 'other'. '''\n",
    "    if row['scheme_management']=='VWC':\n",
    "        return 'vwc'\n",
    "    elif row['scheme_management']=='WUG':\n",
    "        return 'wug'\n",
    "    elif row['scheme_management']=='Water authority':\n",
    "        return 'wtr_auth'\n",
    "    elif row['scheme_management']=='WUA':\n",
    "        return 'wua'\n",
    "    elif row['scheme_management']=='Water Board':\n",
    "        return 'wtr_brd'\n",
    "    else:\n",
    "        return 'other'\n",
    "\n",
    "train['scheme_management'] = train.apply(lambda row: scheme_wrangler(row), axis=1)\n",
    "test['scheme_management'] = test.apply(lambda row: scheme_wrangler(row), axis=1)"
   ]
  },
  {
   "cell_type": "code",
   "execution_count": 723,
   "metadata": {},
   "outputs": [
    {
     "data": {
      "text/plain": [
       "K                                        682\n",
       "None                                     644\n",
       "Borehole                                 546\n",
       "Chalinze wate                            405\n",
       "M                                        400\n",
       "DANIDA                                   379\n",
       "Government                               320\n",
       "Ngana water supplied scheme              270\n",
       "wanging'ombe water supply s              261\n",
       "wanging'ombe supply scheme               234\n",
       "I                                        229\n",
       "Bagamoyo wate                            229\n",
       "Uroki-Bomang'ombe water sup              209\n",
       "N                                        204\n",
       "Kirua kahe gravity water supply trust    193\n",
       "Machumba estate pipe line                185\n",
       "Makwale water supplied sche              166\n",
       "Kijiji                                   161\n",
       "S                                        154\n",
       "mtwango water supply scheme              152\n",
       "Handeni Trunk Main(H                     152\n",
       "Losaa-Kia water supply                   152\n",
       "Mkongoro Two                             147\n",
       "Roman                                    139\n",
       "Mkongoro One                             128\n",
       "Maambreni gravity water supply           125\n",
       "Lyamungo umbwe water supply              120\n",
       "Kirua kahe pumping water trust           113\n",
       "Nabaiye pipe line                        107\n",
       "Ki                                       107\n",
       "                                        ... \n",
       "Kakerele  water s                          1\n",
       "Mlima wa Nyasho                            1\n",
       "TC                                         1\n",
       "Sui                                        1\n",
       "AIC                                        1\n",
       "Dons                                       1\n",
       "Mtema/MWS                                  1\n",
       "Libango water use group science            1\n",
       "Namasakata Water Supply                    1\n",
       "Nkura kilala gravity water supply          1\n",
       "Arashi water scheme                        1\n",
       "jongoj                                     1\n",
       "Shahude water supply                       1\n",
       "Makiidi water supply                       1\n",
       "Kungwa W                                   1\n",
       "QWUICKWIN                                  1\n",
       "water supply Katungulu                     1\n",
       "Mwambashima piped scheme                   1\n",
       "Msjimingi                                  1\n",
       "Chan                                       1\n",
       "UNICRF                                     1\n",
       "BUWADA                                     1\n",
       "BL Eligudi                                 1\n",
       "Marua mshatie water supply                 1\n",
       "Busambilo Solar Power                      1\n",
       "Busunzu/Nyankwi gravity water              1\n",
       "KIIBUWA                                    1\n",
       "Mlingotini wa                              1\n",
       "Kirongwe water supply                      1\n",
       "villagers                                  1\n",
       "Name: scheme_name, Length: 2696, dtype: int64"
      ]
     },
     "execution_count": 723,
     "metadata": {},
     "output_type": "execute_result"
    }
   ],
   "source": [
    "#Scheme name\n",
    "train['scheme_name'].value_counts()"
   ]
  },
  {
   "cell_type": "code",
   "execution_count": 724,
   "metadata": {},
   "outputs": [],
   "source": [
    "len(train.scheme_name.unique())\n",
    "\n",
    "# Lots of factors and the top 5 or so only represent a fraction of the total values. Probably \n",
    "# safe to drop this column.\n",
    "\n",
    "train = train.drop('scheme_name', axis=1)\n",
    "test = test.drop('scheme_name', axis=1)"
   ]
  },
  {
   "cell_type": "code",
   "execution_count": 725,
   "metadata": {},
   "outputs": [
    {
     "data": {
      "text/plain": [
       "True     38852\n",
       "False    17492\n",
       "Name: permit, dtype: int64"
      ]
     },
     "execution_count": 725,
     "metadata": {},
     "output_type": "execute_result"
    }
   ],
   "source": [
    "#permit\n",
    "train['permit'].value_counts()"
   ]
  },
  {
   "cell_type": "code",
   "execution_count": 726,
   "metadata": {},
   "outputs": [],
   "source": [
    "# We only have two values here: true and false. This one can stay but we'll have to replace \n",
    "# the unknown data with a string value.\n",
    "\n",
    "train.permit = train.permit.fillna('Unknown')\n",
    "test.permit = test.permit.fillna('Unknown')\n"
   ]
  },
  {
   "cell_type": "code",
   "execution_count": 727,
   "metadata": {},
   "outputs": [
    {
     "data": {
      "text/plain": [
       "id                       0\n",
       "amount_tsh               0\n",
       "date_recorded            0\n",
       "funder                   0\n",
       "gps_height               0\n",
       "installer                0\n",
       "longitude                0\n",
       "latitude                 0\n",
       "wpt_name                 0\n",
       "num_private              0\n",
       "basin                    0\n",
       "region                   0\n",
       "region_code              0\n",
       "district_code            0\n",
       "lga                      0\n",
       "ward                     0\n",
       "population               0\n",
       "public_meeting           0\n",
       "recorded_by              0\n",
       "scheme_management        0\n",
       "permit                   0\n",
       "construction_year        0\n",
       "extraction_type          0\n",
       "extraction_type_group    0\n",
       "extraction_type_class    0\n",
       "management               0\n",
       "management_group         0\n",
       "payment                  0\n",
       "payment_type             0\n",
       "water_quality            0\n",
       "quality_group            0\n",
       "quantity                 0\n",
       "quantity_group           0\n",
       "source                   0\n",
       "source_type              0\n",
       "source_class             0\n",
       "waterpoint_type          0\n",
       "waterpoint_type_group    0\n",
       "status_group             0\n",
       "status_group_vals        0\n",
       "dtype: int64"
      ]
     },
     "execution_count": 727,
     "metadata": {},
     "output_type": "execute_result"
    }
   ],
   "source": [
    "#EDA\n",
    "# Checking Null Values on test data\n",
    "train.apply(lambda x: sum(x.isnull()), axis=0)"
   ]
  },
  {
   "cell_type": "code",
   "execution_count": 728,
   "metadata": {},
   "outputs": [],
   "source": [
    "#From the above data, we can say the data is clean for both the training and testing."
   ]
  },
  {
   "cell_type": "code",
   "execution_count": 729,
   "metadata": {},
   "outputs": [
    {
     "data": {
      "text/html": [
       "<div>\n",
       "<style scoped>\n",
       "    .dataframe tbody tr th:only-of-type {\n",
       "        vertical-align: middle;\n",
       "    }\n",
       "\n",
       "    .dataframe tbody tr th {\n",
       "        vertical-align: top;\n",
       "    }\n",
       "\n",
       "    .dataframe thead th {\n",
       "        text-align: right;\n",
       "    }\n",
       "</style>\n",
       "<table border=\"1\" class=\"dataframe\">\n",
       "  <thead>\n",
       "    <tr style=\"text-align: right;\">\n",
       "      <th></th>\n",
       "      <th>id</th>\n",
       "      <th>amount_tsh</th>\n",
       "      <th>gps_height</th>\n",
       "      <th>longitude</th>\n",
       "      <th>latitude</th>\n",
       "      <th>num_private</th>\n",
       "      <th>region_code</th>\n",
       "      <th>district_code</th>\n",
       "      <th>population</th>\n",
       "      <th>construction_year</th>\n",
       "      <th>status_group_vals</th>\n",
       "    </tr>\n",
       "  </thead>\n",
       "  <tbody>\n",
       "    <tr>\n",
       "      <th>id</th>\n",
       "      <td>1.000000</td>\n",
       "      <td>-0.005321</td>\n",
       "      <td>-0.004692</td>\n",
       "      <td>-0.001348</td>\n",
       "      <td>0.001718</td>\n",
       "      <td>-0.002629</td>\n",
       "      <td>-0.003028</td>\n",
       "      <td>-0.003044</td>\n",
       "      <td>-0.002813</td>\n",
       "      <td>-0.002082</td>\n",
       "      <td>-0.004049</td>\n",
       "    </tr>\n",
       "    <tr>\n",
       "      <th>amount_tsh</th>\n",
       "      <td>-0.005321</td>\n",
       "      <td>1.000000</td>\n",
       "      <td>0.076650</td>\n",
       "      <td>0.022134</td>\n",
       "      <td>-0.052670</td>\n",
       "      <td>0.002944</td>\n",
       "      <td>-0.026813</td>\n",
       "      <td>-0.023599</td>\n",
       "      <td>0.016288</td>\n",
       "      <td>0.067915</td>\n",
       "      <td>0.053702</td>\n",
       "    </tr>\n",
       "    <tr>\n",
       "      <th>gps_height</th>\n",
       "      <td>-0.004692</td>\n",
       "      <td>0.076650</td>\n",
       "      <td>1.000000</td>\n",
       "      <td>0.149155</td>\n",
       "      <td>-0.035751</td>\n",
       "      <td>0.007237</td>\n",
       "      <td>-0.183521</td>\n",
       "      <td>-0.171233</td>\n",
       "      <td>0.135003</td>\n",
       "      <td>0.658727</td>\n",
       "      <td>0.114029</td>\n",
       "    </tr>\n",
       "    <tr>\n",
       "      <th>longitude</th>\n",
       "      <td>-0.001348</td>\n",
       "      <td>0.022134</td>\n",
       "      <td>0.149155</td>\n",
       "      <td>1.000000</td>\n",
       "      <td>-0.425802</td>\n",
       "      <td>0.023873</td>\n",
       "      <td>0.034197</td>\n",
       "      <td>0.151398</td>\n",
       "      <td>0.086590</td>\n",
       "      <td>0.396732</td>\n",
       "      <td>-0.004366</td>\n",
       "    </tr>\n",
       "    <tr>\n",
       "      <th>latitude</th>\n",
       "      <td>0.001718</td>\n",
       "      <td>-0.052670</td>\n",
       "      <td>-0.035751</td>\n",
       "      <td>-0.425802</td>\n",
       "      <td>1.000000</td>\n",
       "      <td>0.006837</td>\n",
       "      <td>-0.221018</td>\n",
       "      <td>-0.201020</td>\n",
       "      <td>-0.022152</td>\n",
       "      <td>-0.245278</td>\n",
       "      <td>0.014547</td>\n",
       "    </tr>\n",
       "    <tr>\n",
       "      <th>num_private</th>\n",
       "      <td>-0.002629</td>\n",
       "      <td>0.002944</td>\n",
       "      <td>0.007237</td>\n",
       "      <td>0.023873</td>\n",
       "      <td>0.006837</td>\n",
       "      <td>1.000000</td>\n",
       "      <td>-0.020377</td>\n",
       "      <td>-0.004478</td>\n",
       "      <td>0.003818</td>\n",
       "      <td>0.026056</td>\n",
       "      <td>0.005021</td>\n",
       "    </tr>\n",
       "    <tr>\n",
       "      <th>region_code</th>\n",
       "      <td>-0.003028</td>\n",
       "      <td>-0.026813</td>\n",
       "      <td>-0.183521</td>\n",
       "      <td>0.034197</td>\n",
       "      <td>-0.221018</td>\n",
       "      <td>-0.020377</td>\n",
       "      <td>1.000000</td>\n",
       "      <td>0.678602</td>\n",
       "      <td>0.094088</td>\n",
       "      <td>0.031724</td>\n",
       "      <td>-0.108640</td>\n",
       "    </tr>\n",
       "    <tr>\n",
       "      <th>district_code</th>\n",
       "      <td>-0.003044</td>\n",
       "      <td>-0.023599</td>\n",
       "      <td>-0.171233</td>\n",
       "      <td>0.151398</td>\n",
       "      <td>-0.201020</td>\n",
       "      <td>-0.004478</td>\n",
       "      <td>0.678602</td>\n",
       "      <td>1.000000</td>\n",
       "      <td>0.061831</td>\n",
       "      <td>0.048315</td>\n",
       "      <td>-0.065687</td>\n",
       "    </tr>\n",
       "    <tr>\n",
       "      <th>population</th>\n",
       "      <td>-0.002813</td>\n",
       "      <td>0.016288</td>\n",
       "      <td>0.135003</td>\n",
       "      <td>0.086590</td>\n",
       "      <td>-0.022152</td>\n",
       "      <td>0.003818</td>\n",
       "      <td>0.094088</td>\n",
       "      <td>0.061831</td>\n",
       "      <td>1.000000</td>\n",
       "      <td>0.260910</td>\n",
       "      <td>0.017759</td>\n",
       "    </tr>\n",
       "    <tr>\n",
       "      <th>construction_year</th>\n",
       "      <td>-0.002082</td>\n",
       "      <td>0.067915</td>\n",
       "      <td>0.658727</td>\n",
       "      <td>0.396732</td>\n",
       "      <td>-0.245278</td>\n",
       "      <td>0.026056</td>\n",
       "      <td>0.031724</td>\n",
       "      <td>0.048315</td>\n",
       "      <td>0.260910</td>\n",
       "      <td>1.000000</td>\n",
       "      <td>0.043342</td>\n",
       "    </tr>\n",
       "    <tr>\n",
       "      <th>status_group_vals</th>\n",
       "      <td>-0.004049</td>\n",
       "      <td>0.053702</td>\n",
       "      <td>0.114029</td>\n",
       "      <td>-0.004366</td>\n",
       "      <td>0.014547</td>\n",
       "      <td>0.005021</td>\n",
       "      <td>-0.108640</td>\n",
       "      <td>-0.065687</td>\n",
       "      <td>0.017759</td>\n",
       "      <td>0.043342</td>\n",
       "      <td>1.000000</td>\n",
       "    </tr>\n",
       "  </tbody>\n",
       "</table>\n",
       "</div>"
      ],
      "text/plain": [
       "                         id  amount_tsh  gps_height  longitude  latitude  \\\n",
       "id                 1.000000   -0.005321   -0.004692  -0.001348  0.001718   \n",
       "amount_tsh        -0.005321    1.000000    0.076650   0.022134 -0.052670   \n",
       "gps_height        -0.004692    0.076650    1.000000   0.149155 -0.035751   \n",
       "longitude         -0.001348    0.022134    0.149155   1.000000 -0.425802   \n",
       "latitude           0.001718   -0.052670   -0.035751  -0.425802  1.000000   \n",
       "num_private       -0.002629    0.002944    0.007237   0.023873  0.006837   \n",
       "region_code       -0.003028   -0.026813   -0.183521   0.034197 -0.221018   \n",
       "district_code     -0.003044   -0.023599   -0.171233   0.151398 -0.201020   \n",
       "population        -0.002813    0.016288    0.135003   0.086590 -0.022152   \n",
       "construction_year -0.002082    0.067915    0.658727   0.396732 -0.245278   \n",
       "status_group_vals -0.004049    0.053702    0.114029  -0.004366  0.014547   \n",
       "\n",
       "                   num_private  region_code  district_code  population  \\\n",
       "id                   -0.002629    -0.003028      -0.003044   -0.002813   \n",
       "amount_tsh            0.002944    -0.026813      -0.023599    0.016288   \n",
       "gps_height            0.007237    -0.183521      -0.171233    0.135003   \n",
       "longitude             0.023873     0.034197       0.151398    0.086590   \n",
       "latitude              0.006837    -0.221018      -0.201020   -0.022152   \n",
       "num_private           1.000000    -0.020377      -0.004478    0.003818   \n",
       "region_code          -0.020377     1.000000       0.678602    0.094088   \n",
       "district_code        -0.004478     0.678602       1.000000    0.061831   \n",
       "population            0.003818     0.094088       0.061831    1.000000   \n",
       "construction_year     0.026056     0.031724       0.048315    0.260910   \n",
       "status_group_vals     0.005021    -0.108640      -0.065687    0.017759   \n",
       "\n",
       "                   construction_year  status_group_vals  \n",
       "id                         -0.002082          -0.004049  \n",
       "amount_tsh                  0.067915           0.053702  \n",
       "gps_height                  0.658727           0.114029  \n",
       "longitude                   0.396732          -0.004366  \n",
       "latitude                   -0.245278           0.014547  \n",
       "num_private                 0.026056           0.005021  \n",
       "region_code                 0.031724          -0.108640  \n",
       "district_code               0.048315          -0.065687  \n",
       "population                  0.260910           0.017759  \n",
       "construction_year           1.000000           0.043342  \n",
       "status_group_vals           0.043342           1.000000  "
      ]
     },
     "execution_count": 729,
     "metadata": {},
     "output_type": "execute_result"
    }
   ],
   "source": [
    "#checking the correlation values of training datatest.corr()\n",
    "train.corr()"
   ]
  },
  {
   "cell_type": "code",
   "execution_count": 730,
   "metadata": {},
   "outputs": [
    {
     "data": {
      "text/html": [
       "<div>\n",
       "<style scoped>\n",
       "    .dataframe tbody tr th:only-of-type {\n",
       "        vertical-align: middle;\n",
       "    }\n",
       "\n",
       "    .dataframe tbody tr th {\n",
       "        vertical-align: top;\n",
       "    }\n",
       "\n",
       "    .dataframe thead th {\n",
       "        text-align: right;\n",
       "    }\n",
       "</style>\n",
       "<table border=\"1\" class=\"dataframe\">\n",
       "  <thead>\n",
       "    <tr style=\"text-align: right;\">\n",
       "      <th></th>\n",
       "      <th>id</th>\n",
       "      <th>amount_tsh</th>\n",
       "      <th>gps_height</th>\n",
       "      <th>longitude</th>\n",
       "      <th>latitude</th>\n",
       "      <th>num_private</th>\n",
       "      <th>region_code</th>\n",
       "      <th>district_code</th>\n",
       "      <th>population</th>\n",
       "      <th>construction_year</th>\n",
       "    </tr>\n",
       "  </thead>\n",
       "  <tbody>\n",
       "    <tr>\n",
       "      <th>id</th>\n",
       "      <td>1.000000</td>\n",
       "      <td>-0.016012</td>\n",
       "      <td>0.002711</td>\n",
       "      <td>-0.003331</td>\n",
       "      <td>0.009632</td>\n",
       "      <td>-0.016040</td>\n",
       "      <td>0.002601</td>\n",
       "      <td>-0.000655</td>\n",
       "      <td>-0.016068</td>\n",
       "      <td>-0.004591</td>\n",
       "    </tr>\n",
       "    <tr>\n",
       "      <th>amount_tsh</th>\n",
       "      <td>-0.016012</td>\n",
       "      <td>1.000000</td>\n",
       "      <td>0.096230</td>\n",
       "      <td>0.027709</td>\n",
       "      <td>-0.072210</td>\n",
       "      <td>0.022978</td>\n",
       "      <td>-0.028887</td>\n",
       "      <td>-0.027391</td>\n",
       "      <td>0.028657</td>\n",
       "      <td>0.086236</td>\n",
       "    </tr>\n",
       "    <tr>\n",
       "      <th>gps_height</th>\n",
       "      <td>0.002711</td>\n",
       "      <td>0.096230</td>\n",
       "      <td>1.000000</td>\n",
       "      <td>0.148722</td>\n",
       "      <td>-0.045028</td>\n",
       "      <td>0.013331</td>\n",
       "      <td>-0.177832</td>\n",
       "      <td>-0.169586</td>\n",
       "      <td>0.131994</td>\n",
       "      <td>0.656781</td>\n",
       "    </tr>\n",
       "    <tr>\n",
       "      <th>longitude</th>\n",
       "      <td>-0.003331</td>\n",
       "      <td>0.027709</td>\n",
       "      <td>0.148722</td>\n",
       "      <td>1.000000</td>\n",
       "      <td>-0.430001</td>\n",
       "      <td>0.030979</td>\n",
       "      <td>0.024354</td>\n",
       "      <td>0.148962</td>\n",
       "      <td>0.090862</td>\n",
       "      <td>0.397361</td>\n",
       "    </tr>\n",
       "    <tr>\n",
       "      <th>latitude</th>\n",
       "      <td>0.009632</td>\n",
       "      <td>-0.072210</td>\n",
       "      <td>-0.045028</td>\n",
       "      <td>-0.430001</td>\n",
       "      <td>1.000000</td>\n",
       "      <td>0.002048</td>\n",
       "      <td>-0.203080</td>\n",
       "      <td>-0.196176</td>\n",
       "      <td>-0.024123</td>\n",
       "      <td>-0.256610</td>\n",
       "    </tr>\n",
       "    <tr>\n",
       "      <th>num_private</th>\n",
       "      <td>-0.016040</td>\n",
       "      <td>0.022978</td>\n",
       "      <td>0.013331</td>\n",
       "      <td>0.030979</td>\n",
       "      <td>0.002048</td>\n",
       "      <td>1.000000</td>\n",
       "      <td>-0.028188</td>\n",
       "      <td>-0.010341</td>\n",
       "      <td>0.001517</td>\n",
       "      <td>0.036118</td>\n",
       "    </tr>\n",
       "    <tr>\n",
       "      <th>region_code</th>\n",
       "      <td>0.002601</td>\n",
       "      <td>-0.028887</td>\n",
       "      <td>-0.177832</td>\n",
       "      <td>0.024354</td>\n",
       "      <td>-0.203080</td>\n",
       "      <td>-0.028188</td>\n",
       "      <td>1.000000</td>\n",
       "      <td>0.687910</td>\n",
       "      <td>0.097118</td>\n",
       "      <td>0.029993</td>\n",
       "    </tr>\n",
       "    <tr>\n",
       "      <th>district_code</th>\n",
       "      <td>-0.000655</td>\n",
       "      <td>-0.027391</td>\n",
       "      <td>-0.169586</td>\n",
       "      <td>0.148962</td>\n",
       "      <td>-0.196176</td>\n",
       "      <td>-0.010341</td>\n",
       "      <td>0.687910</td>\n",
       "      <td>1.000000</td>\n",
       "      <td>0.066425</td>\n",
       "      <td>0.046214</td>\n",
       "    </tr>\n",
       "    <tr>\n",
       "      <th>population</th>\n",
       "      <td>-0.016068</td>\n",
       "      <td>0.028657</td>\n",
       "      <td>0.131994</td>\n",
       "      <td>0.090862</td>\n",
       "      <td>-0.024123</td>\n",
       "      <td>0.001517</td>\n",
       "      <td>0.097118</td>\n",
       "      <td>0.066425</td>\n",
       "      <td>1.000000</td>\n",
       "      <td>0.272421</td>\n",
       "    </tr>\n",
       "    <tr>\n",
       "      <th>construction_year</th>\n",
       "      <td>-0.004591</td>\n",
       "      <td>0.086236</td>\n",
       "      <td>0.656781</td>\n",
       "      <td>0.397361</td>\n",
       "      <td>-0.256610</td>\n",
       "      <td>0.036118</td>\n",
       "      <td>0.029993</td>\n",
       "      <td>0.046214</td>\n",
       "      <td>0.272421</td>\n",
       "      <td>1.000000</td>\n",
       "    </tr>\n",
       "  </tbody>\n",
       "</table>\n",
       "</div>"
      ],
      "text/plain": [
       "                         id  amount_tsh  gps_height  longitude  latitude  \\\n",
       "id                 1.000000   -0.016012    0.002711  -0.003331  0.009632   \n",
       "amount_tsh        -0.016012    1.000000    0.096230   0.027709 -0.072210   \n",
       "gps_height         0.002711    0.096230    1.000000   0.148722 -0.045028   \n",
       "longitude         -0.003331    0.027709    0.148722   1.000000 -0.430001   \n",
       "latitude           0.009632   -0.072210   -0.045028  -0.430001  1.000000   \n",
       "num_private       -0.016040    0.022978    0.013331   0.030979  0.002048   \n",
       "region_code        0.002601   -0.028887   -0.177832   0.024354 -0.203080   \n",
       "district_code     -0.000655   -0.027391   -0.169586   0.148962 -0.196176   \n",
       "population        -0.016068    0.028657    0.131994   0.090862 -0.024123   \n",
       "construction_year -0.004591    0.086236    0.656781   0.397361 -0.256610   \n",
       "\n",
       "                   num_private  region_code  district_code  population  \\\n",
       "id                   -0.016040     0.002601      -0.000655   -0.016068   \n",
       "amount_tsh            0.022978    -0.028887      -0.027391    0.028657   \n",
       "gps_height            0.013331    -0.177832      -0.169586    0.131994   \n",
       "longitude             0.030979     0.024354       0.148962    0.090862   \n",
       "latitude              0.002048    -0.203080      -0.196176   -0.024123   \n",
       "num_private           1.000000    -0.028188      -0.010341    0.001517   \n",
       "region_code          -0.028188     1.000000       0.687910    0.097118   \n",
       "district_code        -0.010341     0.687910       1.000000    0.066425   \n",
       "population            0.001517     0.097118       0.066425    1.000000   \n",
       "construction_year     0.036118     0.029993       0.046214    0.272421   \n",
       "\n",
       "                   construction_year  \n",
       "id                         -0.004591  \n",
       "amount_tsh                  0.086236  \n",
       "gps_height                  0.656781  \n",
       "longitude                   0.397361  \n",
       "latitude                   -0.256610  \n",
       "num_private                 0.036118  \n",
       "region_code                 0.029993  \n",
       "district_code               0.046214  \n",
       "population                  0.272421  \n",
       "construction_year           1.000000  "
      ]
     },
     "execution_count": 730,
     "metadata": {},
     "output_type": "execute_result"
    }
   ],
   "source": [
    "#checking the correlation values of testing datatest.corr()\n",
    "test.corr()"
   ]
  },
  {
   "cell_type": "markdown",
   "metadata": {},
   "source": [
    "As we can see, the values are not correlated with each other. That is good for the model"
   ]
  },
  {
   "cell_type": "code",
   "execution_count": 731,
   "metadata": {},
   "outputs": [
    {
     "data": {
      "text/plain": [
       "GeoData Consultants Ltd    59400\n",
       "Name: recorded_by, dtype: int64"
      ]
     },
     "execution_count": 731,
     "metadata": {},
     "output_type": "execute_result"
    }
   ],
   "source": [
    "train['recorded_by'].value_counts()\n",
    "#we can drop this column because all the values in this column are same. There is no point to go forward with this column."
   ]
  },
  {
   "cell_type": "code",
   "execution_count": 732,
   "metadata": {},
   "outputs": [],
   "source": [
    "train=train.drop(['recorded_by'],axis=1)\n",
    "test=test.drop(['recorded_by'],axis=1)"
   ]
  },
  {
   "cell_type": "code",
   "execution_count": 733,
   "metadata": {},
   "outputs": [
    {
     "data": {
      "text/plain": [
       "id                       59400\n",
       "amount_tsh                  98\n",
       "date_recorded              356\n",
       "funder                       6\n",
       "gps_height                2428\n",
       "installer                    6\n",
       "longitude                57516\n",
       "latitude                 57517\n",
       "wpt_name                 37400\n",
       "num_private                 65\n",
       "basin                        9\n",
       "region                      21\n",
       "region_code                 27\n",
       "district_code               20\n",
       "lga                        125\n",
       "ward                      2092\n",
       "population                1049\n",
       "public_meeting               3\n",
       "scheme_management            6\n",
       "permit                       3\n",
       "construction_year           55\n",
       "extraction_type             18\n",
       "extraction_type_group       13\n",
       "extraction_type_class        7\n",
       "management                  12\n",
       "management_group             5\n",
       "payment                      7\n",
       "payment_type                 7\n",
       "water_quality                8\n",
       "quality_group                6\n",
       "quantity                     5\n",
       "quantity_group               5\n",
       "source                      10\n",
       "source_type                  7\n",
       "source_class                 3\n",
       "waterpoint_type              7\n",
       "waterpoint_type_group        6\n",
       "status_group                 3\n",
       "status_group_vals            3\n",
       "dtype: int64"
      ]
     },
     "execution_count": 733,
     "metadata": {},
     "output_type": "execute_result"
    }
   ],
   "source": [
    "train.apply(lambda x: len(x.unique()))"
   ]
  },
  {
   "cell_type": "code",
   "execution_count": 734,
   "metadata": {},
   "outputs": [
    {
     "data": {
      "text/plain": [
       "communal standpipe             28522\n",
       "hand pump                      17488\n",
       "other                           6380\n",
       "communal standpipe multiple     6103\n",
       "improved spring                  784\n",
       "cattle trough                    116\n",
       "dam                                7\n",
       "Name: waterpoint_type, dtype: int64"
      ]
     },
     "execution_count": 734,
     "metadata": {},
     "output_type": "execute_result"
    }
   ],
   "source": [
    "train['waterpoint_type'].value_counts()"
   ]
  },
  {
   "cell_type": "code",
   "execution_count": 735,
   "metadata": {},
   "outputs": [
    {
     "data": {
      "text/plain": [
       "communal standpipe    34625\n",
       "hand pump             17488\n",
       "other                  6380\n",
       "improved spring         784\n",
       "cattle trough           116\n",
       "dam                       7\n",
       "Name: waterpoint_type_group, dtype: int64"
      ]
     },
     "execution_count": 735,
     "metadata": {},
     "output_type": "execute_result"
    }
   ],
   "source": [
    "train['waterpoint_type_group'].value_counts()"
   ]
  },
  {
   "cell_type": "code",
   "execution_count": 736,
   "metadata": {},
   "outputs": [],
   "source": [
    "# waterpoint_type and waterpoint_type_group both are almost similar, communal standpipe and comunal standpipe multiple are merged \n",
    "# together in waterpoint_type_group\n",
    "# we can drop one of them\n",
    "\n",
    "train=train.drop(['waterpoint_type'],axis=1)\n",
    "test=test.drop(['waterpoint_type'],axis=1)"
   ]
  },
  {
   "cell_type": "code",
   "execution_count": 737,
   "metadata": {},
   "outputs": [
    {
     "data": {
      "text/plain": [
       "spring                  17021\n",
       "shallow well            16824\n",
       "machine dbh             11075\n",
       "river                    9612\n",
       "rainwater harvesting     2295\n",
       "hand dtw                  874\n",
       "lake                      765\n",
       "dam                       656\n",
       "other                     212\n",
       "unknown                    66\n",
       "Name: source, dtype: int64"
      ]
     },
     "execution_count": 737,
     "metadata": {},
     "output_type": "execute_result"
    }
   ],
   "source": [
    "train['source'].value_counts()"
   ]
  },
  {
   "cell_type": "code",
   "execution_count": 738,
   "metadata": {},
   "outputs": [
    {
     "data": {
      "text/plain": [
       "spring                  17021\n",
       "shallow well            16824\n",
       "borehole                11949\n",
       "river/lake              10377\n",
       "rainwater harvesting     2295\n",
       "dam                       656\n",
       "other                     278\n",
       "Name: source_type, dtype: int64"
      ]
     },
     "execution_count": 738,
     "metadata": {},
     "output_type": "execute_result"
    }
   ],
   "source": [
    "train['source_type'].value_counts()"
   ]
  },
  {
   "cell_type": "code",
   "execution_count": 739,
   "metadata": {},
   "outputs": [
    {
     "data": {
      "text/plain": [
       "groundwater    45794\n",
       "surface        13328\n",
       "unknown          278\n",
       "Name: source_class, dtype: int64"
      ]
     },
     "execution_count": 739,
     "metadata": {},
     "output_type": "execute_result"
    }
   ],
   "source": [
    "train['source_class'].value_counts()"
   ]
  },
  {
   "cell_type": "code",
   "execution_count": 740,
   "metadata": {},
   "outputs": [],
   "source": [
    "#from the above script, we can say the source and source_type are same because in source_type some values are merged together. \n",
    "# we can drop one of the column.\n",
    "\n",
    "train=train.drop(['source'],axis=1)\n",
    "test=test.drop(['source'],axis=1)"
   ]
  },
  {
   "cell_type": "code",
   "execution_count": 741,
   "metadata": {},
   "outputs": [
    {
     "data": {
      "text/plain": [
       "enough          33186\n",
       "insufficient    15129\n",
       "dry              6246\n",
       "seasonal         4050\n",
       "unknown           789\n",
       "Name: quantity, dtype: int64"
      ]
     },
     "execution_count": 741,
     "metadata": {},
     "output_type": "execute_result"
    }
   ],
   "source": [
    "train['quantity'].value_counts()"
   ]
  },
  {
   "cell_type": "code",
   "execution_count": 742,
   "metadata": {},
   "outputs": [
    {
     "data": {
      "text/plain": [
       "enough          33186\n",
       "insufficient    15129\n",
       "dry              6246\n",
       "seasonal         4050\n",
       "unknown           789\n",
       "Name: quantity_group, dtype: int64"
      ]
     },
     "execution_count": 742,
     "metadata": {},
     "output_type": "execute_result"
    }
   ],
   "source": [
    "train['quantity_group'].value_counts()"
   ]
  },
  {
   "cell_type": "code",
   "execution_count": 743,
   "metadata": {},
   "outputs": [],
   "source": [
    "#from the above script, we can say the quantity and quantity_group both are same.\n",
    "# we can drop one of the column.\n",
    "\n",
    "train=train.drop(['quantity'],axis=1)\n",
    "test=test.drop(['quantity'],axis=1)"
   ]
  },
  {
   "cell_type": "code",
   "execution_count": 744,
   "metadata": {},
   "outputs": [
    {
     "data": {
      "text/plain": [
       "soft                  50818\n",
       "salty                  4856\n",
       "unknown                1876\n",
       "milky                   804\n",
       "coloured                490\n",
       "salty abandoned         339\n",
       "fluoride                200\n",
       "fluoride abandoned       17\n",
       "Name: water_quality, dtype: int64"
      ]
     },
     "execution_count": 744,
     "metadata": {},
     "output_type": "execute_result"
    }
   ],
   "source": [
    "train['water_quality'].value_counts()"
   ]
  },
  {
   "cell_type": "code",
   "execution_count": 745,
   "metadata": {},
   "outputs": [
    {
     "data": {
      "text/plain": [
       "good        50818\n",
       "salty        5195\n",
       "unknown      1876\n",
       "milky         804\n",
       "colored       490\n",
       "fluoride      217\n",
       "Name: quality_group, dtype: int64"
      ]
     },
     "execution_count": 745,
     "metadata": {},
     "output_type": "execute_result"
    }
   ],
   "source": [
    "train['quality_group'].value_counts()"
   ]
  },
  {
   "cell_type": "code",
   "execution_count": 746,
   "metadata": {},
   "outputs": [],
   "source": [
    "#water_quality and quality_group are correlated . lets drop one of the column\n",
    "train=train.drop(['quality_group'],axis=1)\n",
    "test=test.drop(['quality_group'],axis=1)"
   ]
  },
  {
   "cell_type": "code",
   "execution_count": 747,
   "metadata": {},
   "outputs": [
    {
     "data": {
      "text/plain": [
       "never pay                25348\n",
       "pay per bucket            8985\n",
       "pay monthly               8300\n",
       "unknown                   8157\n",
       "pay when scheme fails     3914\n",
       "pay annually              3642\n",
       "other                     1054\n",
       "Name: payment, dtype: int64"
      ]
     },
     "execution_count": 747,
     "metadata": {},
     "output_type": "execute_result"
    }
   ],
   "source": [
    "train['payment'].value_counts()"
   ]
  },
  {
   "cell_type": "code",
   "execution_count": 748,
   "metadata": {},
   "outputs": [
    {
     "data": {
      "text/plain": [
       "never pay     25348\n",
       "per bucket     8985\n",
       "monthly        8300\n",
       "unknown        8157\n",
       "on failure     3914\n",
       "annually       3642\n",
       "other          1054\n",
       "Name: payment_type, dtype: int64"
      ]
     },
     "execution_count": 748,
     "metadata": {},
     "output_type": "execute_result"
    }
   ],
   "source": [
    "train['payment_type'].value_counts()"
   ]
  },
  {
   "cell_type": "code",
   "execution_count": 749,
   "metadata": {},
   "outputs": [],
   "source": [
    "#from the above script, we can say the payment and payment_type both are same.\n",
    "# we can drop one of the column.\n",
    "\n",
    "train=train.drop(['payment'],axis=1)\n",
    "test=test.drop(['payment'],axis=1)"
   ]
  },
  {
   "cell_type": "code",
   "execution_count": 750,
   "metadata": {},
   "outputs": [
    {
     "data": {
      "text/plain": [
       "vwc                 40507\n",
       "wug                  6515\n",
       "water board          2933\n",
       "wua                  2535\n",
       "private operator     1971\n",
       "parastatal           1768\n",
       "water authority       904\n",
       "other                 844\n",
       "company               685\n",
       "unknown               561\n",
       "other - school         99\n",
       "trust                  78\n",
       "Name: management, dtype: int64"
      ]
     },
     "execution_count": 750,
     "metadata": {},
     "output_type": "execute_result"
    }
   ],
   "source": [
    "train['management'].value_counts()"
   ]
  },
  {
   "cell_type": "code",
   "execution_count": 751,
   "metadata": {},
   "outputs": [
    {
     "data": {
      "text/plain": [
       "user-group    52490\n",
       "commercial     3638\n",
       "parastatal     1768\n",
       "other           943\n",
       "unknown         561\n",
       "Name: management_group, dtype: int64"
      ]
     },
     "execution_count": 751,
     "metadata": {},
     "output_type": "execute_result"
    }
   ],
   "source": [
    "train['management_group'].value_counts()"
   ]
  },
  {
   "cell_type": "code",
   "execution_count": 752,
   "metadata": {},
   "outputs": [],
   "source": [
    "#from the above script, we can say the management and management_group both are same, some values are merged together in management-group.\n",
    "# we can drop one of the column.\n",
    "\n",
    "train=train.drop(['management'],axis=1)\n",
    "test=test.drop(['management'],axis=1)"
   ]
  },
  {
   "cell_type": "code",
   "execution_count": 753,
   "metadata": {},
   "outputs": [
    {
     "data": {
      "text/plain": [
       "gravity                      26780\n",
       "nira/tanira                   8154\n",
       "other                         6430\n",
       "submersible                   4764\n",
       "swn 80                        3670\n",
       "mono                          2865\n",
       "india mark ii                 2400\n",
       "afridev                       1770\n",
       "ksb                           1415\n",
       "other - rope pump              451\n",
       "other - swn 81                 229\n",
       "windmill                       117\n",
       "india mark iii                  98\n",
       "cemo                            90\n",
       "other - play pump               85\n",
       "walimi                          48\n",
       "climax                          32\n",
       "other - mkulima/shinyanga        2\n",
       "Name: extraction_type, dtype: int64"
      ]
     },
     "execution_count": 753,
     "metadata": {},
     "output_type": "execute_result"
    }
   ],
   "source": [
    "train['extraction_type'].value_counts()"
   ]
  },
  {
   "cell_type": "code",
   "execution_count": 754,
   "metadata": {},
   "outputs": [
    {
     "data": {
      "text/plain": [
       "gravity            26780\n",
       "nira/tanira         8154\n",
       "other               6430\n",
       "submersible         6179\n",
       "swn 80              3670\n",
       "mono                2865\n",
       "india mark ii       2400\n",
       "afridev             1770\n",
       "rope pump            451\n",
       "other handpump       364\n",
       "other motorpump      122\n",
       "wind-powered         117\n",
       "india mark iii        98\n",
       "Name: extraction_type_group, dtype: int64"
      ]
     },
     "execution_count": 754,
     "metadata": {},
     "output_type": "execute_result"
    }
   ],
   "source": [
    "train['extraction_type_group'].value_counts()"
   ]
  },
  {
   "cell_type": "code",
   "execution_count": 755,
   "metadata": {},
   "outputs": [
    {
     "data": {
      "text/plain": [
       "gravity         26780\n",
       "handpump        16456\n",
       "other            6430\n",
       "submersible      6179\n",
       "motorpump        2987\n",
       "rope pump         451\n",
       "wind-powered      117\n",
       "Name: extraction_type_class, dtype: int64"
      ]
     },
     "execution_count": 755,
     "metadata": {},
     "output_type": "execute_result"
    }
   ],
   "source": [
    "train['extraction_type_class'].value_counts()"
   ]
  },
  {
   "cell_type": "code",
   "execution_count": 756,
   "metadata": {},
   "outputs": [],
   "source": [
    "#from the above script, we can say the exrtaction_type, extraction_type_group and extraction_type_class are same, some values are merged together.\n",
    "\n",
    "train=train.drop(['extraction_type'],axis=1)\n",
    "test=test.drop(['extraction_type'],axis=1)\n",
    "\n",
    "train=train.drop(['extraction_type_group'],axis=1)\n",
    "test=test.drop(['extraction_type_group'],axis=1)"
   ]
  },
  {
   "cell_type": "code",
   "execution_count": 757,
   "metadata": {},
   "outputs": [],
   "source": [
    "# gps_height, longitude, latitude, region_code and district_code are all geographic info which# gps_he \n",
    "# is unlikely to add any predictive power to the model given that there are other variables\n",
    "# containing geographic data. 'num_private' hasn't been given a discription on Driven Data,\n",
    "# it appears to be superflous. We expect id to not contain any useful information so that gets\n",
    "# dropped too. wpt_name is also not required, it gives only waterpoint name\n",
    "\n",
    "train = train.drop(['gps_height', 'longitude', 'latitude', 'region_code', 'district_code',\n",
    "             'num_private', 'id','wpt_name','lga','region','ward','status_group'], axis=1)\n",
    "\n",
    "test = test.drop(['gps_height', 'longitude', 'latitude', 'region_code', 'district_code',\n",
    "             'num_private', 'id','wpt_name','lga','region','ward'], axis=1)"
   ]
  },
  {
   "cell_type": "code",
   "execution_count": 758,
   "metadata": {},
   "outputs": [],
   "source": [
    "# Turn construction_year into a categorical column containing the following values: '60s', '70s',\n",
    "# '80s', '90s, '00s', '10s', 'unknown'.\n",
    "\n",
    "def construction_wrangler(row):\n",
    "    if row['construction_year'] >= 1960 and row['construction_year'] < 1970:\n",
    "        return '60s'\n",
    "    elif row['construction_year'] >= 1970 and row['construction_year'] < 1980:\n",
    "        return '70s'\n",
    "    elif row['construction_year'] >= 1980 and row['construction_year'] < 1990:\n",
    "        return '80s'\n",
    "    elif row['construction_year'] >= 1990 and row['construction_year'] < 2000:\n",
    "        return '90s'\n",
    "    elif row['construction_year'] >= 2000 and row['construction_year'] < 2010:\n",
    "        return '00s'\n",
    "    elif row['construction_year'] >= 2010:\n",
    "        return '10s'\n",
    "    else:\n",
    "        return 'unknown'\n",
    "    \n",
    "train['construction_year'] = train.apply(lambda row: construction_wrangler(row), axis=1)\n",
    "test['construction_year'] = test.apply(lambda row: construction_wrangler(row), axis=1)"
   ]
  },
  {
   "cell_type": "code",
   "execution_count": 759,
   "metadata": {},
   "outputs": [
    {
     "data": {
      "text/plain": [
       "0       21381\n",
       "1        7025\n",
       "200      1940\n",
       "150      1892\n",
       "250      1681\n",
       "300      1476\n",
       "100      1146\n",
       "50       1139\n",
       "500      1009\n",
       "350       986\n",
       "120       916\n",
       "400       775\n",
       "60        706\n",
       "30        626\n",
       "40        552\n",
       "80        533\n",
       "450       499\n",
       "20        462\n",
       "600       438\n",
       "230       388\n",
       "75        289\n",
       "1000      278\n",
       "800       269\n",
       "90        265\n",
       "130       264\n",
       "25        255\n",
       "320       249\n",
       "35        245\n",
       "360       222\n",
       "140       215\n",
       "        ...  \n",
       "8848        1\n",
       "628         1\n",
       "4520        1\n",
       "468         1\n",
       "693         1\n",
       "725         1\n",
       "789         1\n",
       "821         1\n",
       "5300        1\n",
       "3127        1\n",
       "2345        1\n",
       "3031        1\n",
       "886         1\n",
       "392         1\n",
       "424         1\n",
       "2807        1\n",
       "726         1\n",
       "694         1\n",
       "2569        1\n",
       "4788        1\n",
       "662         1\n",
       "4660        1\n",
       "406         1\n",
       "1032        1\n",
       "1160        1\n",
       "3241        1\n",
       "1960        1\n",
       "1685        1\n",
       "2248        1\n",
       "1439        1\n",
       "Name: population, Length: 1049, dtype: int64"
      ]
     },
     "execution_count": 759,
     "metadata": {},
     "output_type": "execute_result"
    }
   ],
   "source": [
    "train['population'].value_counts()"
   ]
  },
  {
   "cell_type": "code",
   "execution_count": 760,
   "metadata": {},
   "outputs": [],
   "source": [
    "test.date_recorded = pd.datetime(2013, 12, 3) - pd.to_datetime(test.date_recorded)\n",
    "test.columns = ['days_since_recorded' if x=='date_recorded' else x for x in test.columns]\n",
    "test.days_since_recorded = test.days_since_recorded.astype('timedelta64[D]').astype(int)\n",
    "\n",
    "train.date_recorded = pd.datetime(2013, 12, 3) - pd.to_datetime(train.date_recorded)\n",
    "train.columns = ['days_since_recorded' if x=='date_recorded' else x for x in train.columns]\n",
    "train.days_since_recorded = train.days_since_recorded.astype('timedelta64[D]').astype(int)"
   ]
  },
  {
   "cell_type": "code",
   "execution_count": 761,
   "metadata": {},
   "outputs": [
    {
     "data": {
      "text/plain": [
       "amount_tsh                 98\n",
       "days_since_recorded       356\n",
       "funder                      6\n",
       "installer                   6\n",
       "basin                       9\n",
       "population               1049\n",
       "public_meeting              3\n",
       "scheme_management           6\n",
       "permit                      3\n",
       "construction_year           7\n",
       "extraction_type_class       7\n",
       "management_group            5\n",
       "payment_type                7\n",
       "water_quality               8\n",
       "quantity_group              5\n",
       "source_type                 7\n",
       "source_class                3\n",
       "waterpoint_type_group       6\n",
       "status_group_vals           3\n",
       "dtype: int64"
      ]
     },
     "execution_count": 761,
     "metadata": {},
     "output_type": "execute_result"
    }
   ],
   "source": [
    "train.apply(lambda x: len(x.unique()))"
   ]
  },
  {
   "cell_type": "code",
   "execution_count": 762,
   "metadata": {},
   "outputs": [
    {
     "data": {
      "text/plain": [
       "amount_tsh                68\n",
       "days_since_recorded      331\n",
       "funder                     6\n",
       "installer                  6\n",
       "basin                      9\n",
       "population               637\n",
       "public_meeting             3\n",
       "scheme_management          6\n",
       "permit                     3\n",
       "construction_year          7\n",
       "extraction_type_class      7\n",
       "management_group           5\n",
       "payment_type               7\n",
       "water_quality              8\n",
       "quantity_group             5\n",
       "source_type                7\n",
       "source_class               3\n",
       "waterpoint_type_group      6\n",
       "dtype: int64"
      ]
     },
     "execution_count": 762,
     "metadata": {},
     "output_type": "execute_result"
    }
   ],
   "source": [
    "test.apply(lambda x: len(x.unique()))"
   ]
  },
  {
   "cell_type": "code",
   "execution_count": 763,
   "metadata": {},
   "outputs": [
    {
     "data": {
      "text/plain": [
       "(59400, 19)"
      ]
     },
     "execution_count": 763,
     "metadata": {},
     "output_type": "execute_result"
    }
   ],
   "source": [
    "train.shape"
   ]
  },
  {
   "cell_type": "code",
   "execution_count": 764,
   "metadata": {},
   "outputs": [
    {
     "data": {
      "text/plain": [
       "(14850, 18)"
      ]
     },
     "execution_count": 764,
     "metadata": {},
     "output_type": "execute_result"
    }
   ],
   "source": [
    "test.shape"
   ]
  },
  {
   "cell_type": "code",
   "execution_count": 765,
   "metadata": {},
   "outputs": [],
   "source": [
    "import pandas as pd\n",
    "import numpy as np\n",
    "from sklearn.cross_validation import train_test_split\n",
    "from sklearn.svm import LinearSVC\n",
    "from sklearn.grid_search import GridSearchCV, RandomizedSearchCV\n",
    "from sklearn.pipeline import Pipeline\n",
    "from sklearn.preprocessing import StandardScaler\n",
    "from sklearn.ensemble import RandomForestClassifier\n",
    "from sklearn.ensemble import GradientBoostingClassifier\n",
    "import pandas_profiling\n",
    "from boruta import BorutaPy\n",
    "from datetime import datetime"
   ]
  },
  {
   "cell_type": "code",
   "execution_count": 766,
   "metadata": {},
   "outputs": [
    {
     "name": "stdout",
     "output_type": "stream",
     "text": [
      "<class 'pandas.core.frame.DataFrame'>\n",
      "Int64Index: 59400 entries, 0 to 59399\n",
      "Data columns (total 19 columns):\n",
      "amount_tsh               59400 non-null float64\n",
      "days_since_recorded      59400 non-null int32\n",
      "funder                   59400 non-null object\n",
      "installer                59400 non-null object\n",
      "basin                    59400 non-null object\n",
      "population               59400 non-null int64\n",
      "public_meeting           59400 non-null object\n",
      "scheme_management        59400 non-null object\n",
      "permit                   59400 non-null object\n",
      "construction_year        59400 non-null object\n",
      "extraction_type_class    59400 non-null object\n",
      "management_group         59400 non-null object\n",
      "payment_type             59400 non-null object\n",
      "water_quality            59400 non-null object\n",
      "quantity_group           59400 non-null object\n",
      "source_type              59400 non-null object\n",
      "source_class             59400 non-null object\n",
      "waterpoint_type_group    59400 non-null object\n",
      "status_group_vals        59400 non-null int64\n",
      "dtypes: float64(1), int32(1), int64(2), object(15)\n",
      "memory usage: 11.3+ MB\n"
     ]
    }
   ],
   "source": [
    "train.info()"
   ]
  },
  {
   "cell_type": "code",
   "execution_count": 767,
   "metadata": {},
   "outputs": [],
   "source": [
    "# Get dummy columns for the categorical columns and shuffle the data.\n",
    "\n",
    "dummy_cols = ['funder', 'installer', 'basin', 'public_meeting', 'scheme_management', 'permit',\n",
    "              'construction_year', 'extraction_type_class','management_group', 'payment_type', 'water_quality',\n",
    "              'quantity_group', 'source_type', 'source_class','waterpoint_type_group']\n",
    "\n",
    "train = pd.get_dummies(train, columns = dummy_cols)\n",
    "\n",
    "train = train.sample(frac=1).reset_index(drop=True)"
   ]
  },
  {
   "cell_type": "code",
   "execution_count": 768,
   "metadata": {},
   "outputs": [],
   "source": [
    "test = pd.get_dummies(test, columns = dummy_cols)"
   ]
  },
  {
   "cell_type": "code",
   "execution_count": 769,
   "metadata": {},
   "outputs": [
    {
     "name": "stdout",
     "output_type": "stream",
     "text": [
      "Shape of training data (59400, 92)\n",
      "Shape of testing data (14850, 91)\n"
     ]
    }
   ],
   "source": [
    "print('Shape of training data',train.shape)\n",
    "print('Shape of testing data',test.shape)"
   ]
  },
  {
   "cell_type": "code",
   "execution_count": 770,
   "metadata": {},
   "outputs": [],
   "source": [
    "#profiling report of training data\n",
    "#pandas_profiling.ProfileReport(train)"
   ]
  },
  {
   "cell_type": "code",
   "execution_count": 771,
   "metadata": {},
   "outputs": [
    {
     "name": "stdout",
     "output_type": "stream",
     "text": [
      "<class 'pandas.core.frame.DataFrame'>\n",
      "RangeIndex: 59400 entries, 0 to 59399\n",
      "Data columns (total 90 columns):\n",
      "amount_tsh                                  59400 non-null float64\n",
      "days_since_recorded                         59400 non-null int32\n",
      "population                                  59400 non-null int64\n",
      "status_group_vals                           59400 non-null int64\n",
      "funder_danida                               59400 non-null uint8\n",
      "funder_government                           59400 non-null uint8\n",
      "funder_hesawa                               59400 non-null uint8\n",
      "funder_other                                59400 non-null uint8\n",
      "funder_rwssp                                59400 non-null uint8\n",
      "funder_world_bank                           59400 non-null uint8\n",
      "installer_commu                             59400 non-null uint8\n",
      "installer_danida                            59400 non-null uint8\n",
      "installer_dwe                               59400 non-null uint8\n",
      "installer_government                        59400 non-null uint8\n",
      "installer_other                             59400 non-null uint8\n",
      "installer_rwe                               59400 non-null uint8\n",
      "basin_Internal                              59400 non-null uint8\n",
      "basin_Lake Nyasa                            59400 non-null uint8\n",
      "basin_Lake Rukwa                            59400 non-null uint8\n",
      "basin_Lake Tanganyika                       59400 non-null uint8\n",
      "basin_Lake Victoria                         59400 non-null uint8\n",
      "basin_Pangani                               59400 non-null uint8\n",
      "basin_Rufiji                                59400 non-null uint8\n",
      "basin_Ruvuma / Southern Coast               59400 non-null uint8\n",
      "basin_Wami / Ruvu                           59400 non-null uint8\n",
      "public_meeting_False                        59400 non-null uint8\n",
      "public_meeting_True                         59400 non-null uint8\n",
      "public_meeting_Unknown                      59400 non-null uint8\n",
      "scheme_management_other                     59400 non-null uint8\n",
      "scheme_management_vwc                       59400 non-null uint8\n",
      "scheme_management_wtr_auth                  59400 non-null uint8\n",
      "scheme_management_wtr_brd                   59400 non-null uint8\n",
      "scheme_management_wua                       59400 non-null uint8\n",
      "scheme_management_wug                       59400 non-null uint8\n",
      "permit_False                                59400 non-null uint8\n",
      "permit_True                                 59400 non-null uint8\n",
      "permit_Unknown                              59400 non-null uint8\n",
      "construction_year_00s                       59400 non-null uint8\n",
      "construction_year_10s                       59400 non-null uint8\n",
      "construction_year_60s                       59400 non-null uint8\n",
      "construction_year_70s                       59400 non-null uint8\n",
      "construction_year_80s                       59400 non-null uint8\n",
      "construction_year_90s                       59400 non-null uint8\n",
      "construction_year_unknown                   59400 non-null uint8\n",
      "extraction_type_class_gravity               59400 non-null uint8\n",
      "extraction_type_class_handpump              59400 non-null uint8\n",
      "extraction_type_class_motorpump             59400 non-null uint8\n",
      "extraction_type_class_other                 59400 non-null uint8\n",
      "extraction_type_class_rope pump             59400 non-null uint8\n",
      "extraction_type_class_submersible           59400 non-null uint8\n",
      "extraction_type_class_wind-powered          59400 non-null uint8\n",
      "management_group_commercial                 59400 non-null uint8\n",
      "management_group_other                      59400 non-null uint8\n",
      "management_group_parastatal                 59400 non-null uint8\n",
      "management_group_unknown                    59400 non-null uint8\n",
      "management_group_user-group                 59400 non-null uint8\n",
      "payment_type_annually                       59400 non-null uint8\n",
      "payment_type_monthly                        59400 non-null uint8\n",
      "payment_type_never pay                      59400 non-null uint8\n",
      "payment_type_on failure                     59400 non-null uint8\n",
      "payment_type_other                          59400 non-null uint8\n",
      "payment_type_per bucket                     59400 non-null uint8\n",
      "payment_type_unknown                        59400 non-null uint8\n",
      "water_quality_coloured                      59400 non-null uint8\n",
      "water_quality_fluoride                      59400 non-null uint8\n",
      "water_quality_fluoride abandoned            59400 non-null uint8\n",
      "water_quality_milky                         59400 non-null uint8\n",
      "water_quality_salty                         59400 non-null uint8\n",
      "water_quality_salty abandoned               59400 non-null uint8\n",
      "water_quality_soft                          59400 non-null uint8\n",
      "water_quality_unknown                       59400 non-null uint8\n",
      "quantity_group_dry                          59400 non-null uint8\n",
      "quantity_group_enough                       59400 non-null uint8\n",
      "quantity_group_insufficient                 59400 non-null uint8\n",
      "quantity_group_seasonal                     59400 non-null uint8\n",
      "quantity_group_unknown                      59400 non-null uint8\n",
      "source_type_borehole                        59400 non-null uint8\n",
      "source_type_dam                             59400 non-null uint8\n",
      "source_type_rainwater harvesting            59400 non-null uint8\n",
      "source_type_river/lake                      59400 non-null uint8\n",
      "source_type_shallow well                    59400 non-null uint8\n",
      "source_type_spring                          59400 non-null uint8\n",
      "source_class_groundwater                    59400 non-null uint8\n",
      "source_class_surface                        59400 non-null uint8\n",
      "source_class_unknown                        59400 non-null uint8\n",
      "waterpoint_type_group_cattle trough         59400 non-null uint8\n",
      "waterpoint_type_group_communal standpipe    59400 non-null uint8\n",
      "waterpoint_type_group_dam                   59400 non-null uint8\n",
      "waterpoint_type_group_improved spring       59400 non-null uint8\n",
      "waterpoint_type_group_other                 59400 non-null uint8\n",
      "dtypes: float64(1), int32(1), int64(2), uint8(86)\n",
      "memory usage: 6.5 MB\n"
     ]
    }
   ],
   "source": [
    "#from profiling report, we can drop duplicate rows from the training dataset and also we can see \n",
    "#waterpoint_type_group_hand pump is highly correlated with extraction_type_class_handpump. we can drop any one of the column\n",
    "\n",
    "#train=train.drop_duplicates()\n",
    "\n",
    "train=train.drop(['waterpoint_type_group_hand pump'],axis=1)\n",
    "test=test.drop(['waterpoint_type_group_hand pump'],axis=1)\n",
    "\n",
    "train=train.drop(['source_type_other'],axis=1)\n",
    "test=test.drop(['source_type_other'],axis=1)\n",
    "\n",
    "train.info()"
   ]
  },
  {
   "cell_type": "code",
   "execution_count": 772,
   "metadata": {},
   "outputs": [],
   "source": [
    "def timer(start_time=None):\n",
    "    if not start_time:\n",
    "        start_time = datetime.now()\n",
    "        return start_time\n",
    "    elif start_time:\n",
    "        thour, temp_sec = divmod((datetime.now() - start_time).total_seconds(), 3600)\n",
    "        tmin, tsec = divmod(temp_sec, 60)\n",
    "        print('\\n Time taken: %i hours %i minutes and %s seconds.' % (thour, tmin, round(tsec, 2)))"
   ]
  },
  {
   "cell_type": "code",
   "execution_count": 786,
   "metadata": {},
   "outputs": [],
   "source": [
    "# Let's split the train set into train and validation sets. Also remove the target.\n",
    "\n",
    "target = train.status_group_vals\n",
    "features = train.drop('status_group_vals', axis=1)\n",
    "\n",
    "features1=features.copy()"
   ]
  },
  {
   "cell_type": "code",
   "execution_count": 778,
   "metadata": {},
   "outputs": [
    {
     "name": "stdout",
     "output_type": "stream",
     "text": [
      "Iteration: \t1 / 100\n",
      "Confirmed: \t0\n",
      "Tentative: \t89\n",
      "Rejected: \t0\n",
      "Iteration: \t2 / 100\n",
      "Confirmed: \t0\n",
      "Tentative: \t89\n",
      "Rejected: \t0\n",
      "Iteration: \t3 / 100\n",
      "Confirmed: \t0\n",
      "Tentative: \t89\n",
      "Rejected: \t0\n",
      "Iteration: \t4 / 100\n",
      "Confirmed: \t0\n",
      "Tentative: \t89\n",
      "Rejected: \t0\n",
      "Iteration: \t5 / 100\n",
      "Confirmed: \t0\n",
      "Tentative: \t89\n",
      "Rejected: \t0\n",
      "Iteration: \t6 / 100\n",
      "Confirmed: \t0\n",
      "Tentative: \t89\n",
      "Rejected: \t0\n",
      "Iteration: \t7 / 100\n",
      "Confirmed: \t0\n",
      "Tentative: \t89\n",
      "Rejected: \t0\n",
      "Iteration: \t8 / 100\n",
      "Confirmed: \t69\n",
      "Tentative: \t5\n",
      "Rejected: \t15\n"
     ]
    },
    {
     "name": "stderr",
     "output_type": "stream",
     "text": [
      "C:\\Users\\Ankur\\Anaconda3\\lib\\site-packages\\boruta\\boruta_py.py:418: RuntimeWarning: invalid value encountered in greater\n",
      "  hits = np.where(cur_imp[0] > imp_sha_max)[0]\n"
     ]
    },
    {
     "name": "stdout",
     "output_type": "stream",
     "text": [
      "Iteration: \t9 / 100\n",
      "Confirmed: \t69\n",
      "Tentative: \t5\n",
      "Rejected: \t15\n"
     ]
    },
    {
     "name": "stderr",
     "output_type": "stream",
     "text": [
      "C:\\Users\\Ankur\\Anaconda3\\lib\\site-packages\\boruta\\boruta_py.py:418: RuntimeWarning: invalid value encountered in greater\n",
      "  hits = np.where(cur_imp[0] > imp_sha_max)[0]\n"
     ]
    },
    {
     "name": "stdout",
     "output_type": "stream",
     "text": [
      "Iteration: \t10 / 100\n",
      "Confirmed: \t69\n",
      "Tentative: \t5\n",
      "Rejected: \t15\n"
     ]
    },
    {
     "name": "stderr",
     "output_type": "stream",
     "text": [
      "C:\\Users\\Ankur\\Anaconda3\\lib\\site-packages\\boruta\\boruta_py.py:418: RuntimeWarning: invalid value encountered in greater\n",
      "  hits = np.where(cur_imp[0] > imp_sha_max)[0]\n"
     ]
    },
    {
     "name": "stdout",
     "output_type": "stream",
     "text": [
      "Iteration: \t11 / 100\n",
      "Confirmed: \t69\n",
      "Tentative: \t5\n",
      "Rejected: \t15\n"
     ]
    },
    {
     "name": "stderr",
     "output_type": "stream",
     "text": [
      "C:\\Users\\Ankur\\Anaconda3\\lib\\site-packages\\boruta\\boruta_py.py:418: RuntimeWarning: invalid value encountered in greater\n",
      "  hits = np.where(cur_imp[0] > imp_sha_max)[0]\n"
     ]
    },
    {
     "name": "stdout",
     "output_type": "stream",
     "text": [
      "Iteration: \t12 / 100\n",
      "Confirmed: \t70\n",
      "Tentative: \t4\n",
      "Rejected: \t15\n"
     ]
    },
    {
     "name": "stderr",
     "output_type": "stream",
     "text": [
      "C:\\Users\\Ankur\\Anaconda3\\lib\\site-packages\\boruta\\boruta_py.py:418: RuntimeWarning: invalid value encountered in greater\n",
      "  hits = np.where(cur_imp[0] > imp_sha_max)[0]\n"
     ]
    },
    {
     "name": "stdout",
     "output_type": "stream",
     "text": [
      "Iteration: \t13 / 100\n",
      "Confirmed: \t70\n",
      "Tentative: \t4\n",
      "Rejected: \t15\n"
     ]
    },
    {
     "name": "stderr",
     "output_type": "stream",
     "text": [
      "C:\\Users\\Ankur\\Anaconda3\\lib\\site-packages\\boruta\\boruta_py.py:418: RuntimeWarning: invalid value encountered in greater\n",
      "  hits = np.where(cur_imp[0] > imp_sha_max)[0]\n"
     ]
    },
    {
     "name": "stdout",
     "output_type": "stream",
     "text": [
      "Iteration: \t14 / 100\n",
      "Confirmed: \t70\n",
      "Tentative: \t4\n",
      "Rejected: \t15\n"
     ]
    },
    {
     "name": "stderr",
     "output_type": "stream",
     "text": [
      "C:\\Users\\Ankur\\Anaconda3\\lib\\site-packages\\boruta\\boruta_py.py:418: RuntimeWarning: invalid value encountered in greater\n",
      "  hits = np.where(cur_imp[0] > imp_sha_max)[0]\n"
     ]
    },
    {
     "name": "stdout",
     "output_type": "stream",
     "text": [
      "Iteration: \t15 / 100\n",
      "Confirmed: \t70\n",
      "Tentative: \t4\n",
      "Rejected: \t15\n"
     ]
    },
    {
     "name": "stderr",
     "output_type": "stream",
     "text": [
      "C:\\Users\\Ankur\\Anaconda3\\lib\\site-packages\\boruta\\boruta_py.py:418: RuntimeWarning: invalid value encountered in greater\n",
      "  hits = np.where(cur_imp[0] > imp_sha_max)[0]\n"
     ]
    },
    {
     "name": "stdout",
     "output_type": "stream",
     "text": [
      "Iteration: \t16 / 100\n",
      "Confirmed: \t70\n",
      "Tentative: \t4\n",
      "Rejected: \t15\n"
     ]
    },
    {
     "name": "stderr",
     "output_type": "stream",
     "text": [
      "C:\\Users\\Ankur\\Anaconda3\\lib\\site-packages\\boruta\\boruta_py.py:418: RuntimeWarning: invalid value encountered in greater\n",
      "  hits = np.where(cur_imp[0] > imp_sha_max)[0]\n"
     ]
    },
    {
     "name": "stdout",
     "output_type": "stream",
     "text": [
      "Iteration: \t17 / 100\n",
      "Confirmed: \t70\n",
      "Tentative: \t4\n",
      "Rejected: \t15\n"
     ]
    },
    {
     "name": "stderr",
     "output_type": "stream",
     "text": [
      "C:\\Users\\Ankur\\Anaconda3\\lib\\site-packages\\boruta\\boruta_py.py:418: RuntimeWarning: invalid value encountered in greater\n",
      "  hits = np.where(cur_imp[0] > imp_sha_max)[0]\n"
     ]
    },
    {
     "name": "stdout",
     "output_type": "stream",
     "text": [
      "Iteration: \t18 / 100\n",
      "Confirmed: \t70\n",
      "Tentative: \t4\n",
      "Rejected: \t15\n"
     ]
    },
    {
     "name": "stderr",
     "output_type": "stream",
     "text": [
      "C:\\Users\\Ankur\\Anaconda3\\lib\\site-packages\\boruta\\boruta_py.py:418: RuntimeWarning: invalid value encountered in greater\n",
      "  hits = np.where(cur_imp[0] > imp_sha_max)[0]\n"
     ]
    },
    {
     "name": "stdout",
     "output_type": "stream",
     "text": [
      "Iteration: \t19 / 100\n",
      "Confirmed: \t70\n",
      "Tentative: \t4\n",
      "Rejected: \t15\n"
     ]
    },
    {
     "name": "stderr",
     "output_type": "stream",
     "text": [
      "C:\\Users\\Ankur\\Anaconda3\\lib\\site-packages\\boruta\\boruta_py.py:418: RuntimeWarning: invalid value encountered in greater\n",
      "  hits = np.where(cur_imp[0] > imp_sha_max)[0]\n"
     ]
    },
    {
     "name": "stdout",
     "output_type": "stream",
     "text": [
      "Iteration: \t20 / 100\n",
      "Confirmed: \t70\n",
      "Tentative: \t4\n",
      "Rejected: \t15\n"
     ]
    },
    {
     "name": "stderr",
     "output_type": "stream",
     "text": [
      "C:\\Users\\Ankur\\Anaconda3\\lib\\site-packages\\boruta\\boruta_py.py:418: RuntimeWarning: invalid value encountered in greater\n",
      "  hits = np.where(cur_imp[0] > imp_sha_max)[0]\n"
     ]
    },
    {
     "name": "stdout",
     "output_type": "stream",
     "text": [
      "Iteration: \t21 / 100\n",
      "Confirmed: \t70\n",
      "Tentative: \t4\n",
      "Rejected: \t15\n"
     ]
    },
    {
     "name": "stderr",
     "output_type": "stream",
     "text": [
      "C:\\Users\\Ankur\\Anaconda3\\lib\\site-packages\\boruta\\boruta_py.py:418: RuntimeWarning: invalid value encountered in greater\n",
      "  hits = np.where(cur_imp[0] > imp_sha_max)[0]\n"
     ]
    },
    {
     "name": "stdout",
     "output_type": "stream",
     "text": [
      "Iteration: \t22 / 100\n",
      "Confirmed: \t70\n",
      "Tentative: \t4\n",
      "Rejected: \t15\n"
     ]
    },
    {
     "name": "stderr",
     "output_type": "stream",
     "text": [
      "C:\\Users\\Ankur\\Anaconda3\\lib\\site-packages\\boruta\\boruta_py.py:418: RuntimeWarning: invalid value encountered in greater\n",
      "  hits = np.where(cur_imp[0] > imp_sha_max)[0]\n"
     ]
    },
    {
     "name": "stdout",
     "output_type": "stream",
     "text": [
      "Iteration: \t23 / 100\n",
      "Confirmed: \t70\n",
      "Tentative: \t4\n",
      "Rejected: \t15\n"
     ]
    },
    {
     "name": "stderr",
     "output_type": "stream",
     "text": [
      "C:\\Users\\Ankur\\Anaconda3\\lib\\site-packages\\boruta\\boruta_py.py:418: RuntimeWarning: invalid value encountered in greater\n",
      "  hits = np.where(cur_imp[0] > imp_sha_max)[0]\n"
     ]
    },
    {
     "name": "stdout",
     "output_type": "stream",
     "text": [
      "Iteration: \t24 / 100\n",
      "Confirmed: \t70\n",
      "Tentative: \t4\n",
      "Rejected: \t15\n"
     ]
    },
    {
     "name": "stderr",
     "output_type": "stream",
     "text": [
      "C:\\Users\\Ankur\\Anaconda3\\lib\\site-packages\\boruta\\boruta_py.py:418: RuntimeWarning: invalid value encountered in greater\n",
      "  hits = np.where(cur_imp[0] > imp_sha_max)[0]\n"
     ]
    },
    {
     "name": "stdout",
     "output_type": "stream",
     "text": [
      "Iteration: \t25 / 100\n",
      "Confirmed: \t70\n",
      "Tentative: \t3\n",
      "Rejected: \t16\n"
     ]
    },
    {
     "name": "stderr",
     "output_type": "stream",
     "text": [
      "C:\\Users\\Ankur\\Anaconda3\\lib\\site-packages\\boruta\\boruta_py.py:418: RuntimeWarning: invalid value encountered in greater\n",
      "  hits = np.where(cur_imp[0] > imp_sha_max)[0]\n"
     ]
    },
    {
     "name": "stdout",
     "output_type": "stream",
     "text": [
      "Iteration: \t26 / 100\n",
      "Confirmed: \t70\n",
      "Tentative: \t3\n",
      "Rejected: \t16\n"
     ]
    },
    {
     "name": "stderr",
     "output_type": "stream",
     "text": [
      "C:\\Users\\Ankur\\Anaconda3\\lib\\site-packages\\boruta\\boruta_py.py:418: RuntimeWarning: invalid value encountered in greater\n",
      "  hits = np.where(cur_imp[0] > imp_sha_max)[0]\n"
     ]
    },
    {
     "name": "stdout",
     "output_type": "stream",
     "text": [
      "Iteration: \t27 / 100\n",
      "Confirmed: \t70\n",
      "Tentative: \t3\n",
      "Rejected: \t16\n"
     ]
    },
    {
     "name": "stderr",
     "output_type": "stream",
     "text": [
      "C:\\Users\\Ankur\\Anaconda3\\lib\\site-packages\\boruta\\boruta_py.py:418: RuntimeWarning: invalid value encountered in greater\n",
      "  hits = np.where(cur_imp[0] > imp_sha_max)[0]\n"
     ]
    },
    {
     "name": "stdout",
     "output_type": "stream",
     "text": [
      "Iteration: \t28 / 100\n",
      "Confirmed: \t70\n",
      "Tentative: \t3\n",
      "Rejected: \t16\n"
     ]
    },
    {
     "name": "stderr",
     "output_type": "stream",
     "text": [
      "C:\\Users\\Ankur\\Anaconda3\\lib\\site-packages\\boruta\\boruta_py.py:418: RuntimeWarning: invalid value encountered in greater\n",
      "  hits = np.where(cur_imp[0] > imp_sha_max)[0]\n"
     ]
    },
    {
     "name": "stdout",
     "output_type": "stream",
     "text": [
      "Iteration: \t29 / 100\n",
      "Confirmed: \t70\n",
      "Tentative: \t3\n",
      "Rejected: \t16\n"
     ]
    },
    {
     "name": "stderr",
     "output_type": "stream",
     "text": [
      "C:\\Users\\Ankur\\Anaconda3\\lib\\site-packages\\boruta\\boruta_py.py:418: RuntimeWarning: invalid value encountered in greater\n",
      "  hits = np.where(cur_imp[0] > imp_sha_max)[0]\n"
     ]
    },
    {
     "name": "stdout",
     "output_type": "stream",
     "text": [
      "Iteration: \t30 / 100\n",
      "Confirmed: \t70\n",
      "Tentative: \t3\n",
      "Rejected: \t16\n"
     ]
    },
    {
     "name": "stderr",
     "output_type": "stream",
     "text": [
      "C:\\Users\\Ankur\\Anaconda3\\lib\\site-packages\\boruta\\boruta_py.py:418: RuntimeWarning: invalid value encountered in greater\n",
      "  hits = np.where(cur_imp[0] > imp_sha_max)[0]\n"
     ]
    },
    {
     "name": "stdout",
     "output_type": "stream",
     "text": [
      "Iteration: \t31 / 100\n",
      "Confirmed: \t70\n",
      "Tentative: \t3\n",
      "Rejected: \t16\n"
     ]
    },
    {
     "name": "stderr",
     "output_type": "stream",
     "text": [
      "C:\\Users\\Ankur\\Anaconda3\\lib\\site-packages\\boruta\\boruta_py.py:418: RuntimeWarning: invalid value encountered in greater\n",
      "  hits = np.where(cur_imp[0] > imp_sha_max)[0]\n"
     ]
    },
    {
     "name": "stdout",
     "output_type": "stream",
     "text": [
      "Iteration: \t32 / 100\n",
      "Confirmed: \t70\n",
      "Tentative: \t3\n",
      "Rejected: \t16\n"
     ]
    },
    {
     "name": "stderr",
     "output_type": "stream",
     "text": [
      "C:\\Users\\Ankur\\Anaconda3\\lib\\site-packages\\boruta\\boruta_py.py:418: RuntimeWarning: invalid value encountered in greater\n",
      "  hits = np.where(cur_imp[0] > imp_sha_max)[0]\n"
     ]
    },
    {
     "name": "stdout",
     "output_type": "stream",
     "text": [
      "Iteration: \t33 / 100\n",
      "Confirmed: \t70\n",
      "Tentative: \t3\n",
      "Rejected: \t16\n"
     ]
    },
    {
     "name": "stderr",
     "output_type": "stream",
     "text": [
      "C:\\Users\\Ankur\\Anaconda3\\lib\\site-packages\\boruta\\boruta_py.py:418: RuntimeWarning: invalid value encountered in greater\n",
      "  hits = np.where(cur_imp[0] > imp_sha_max)[0]\n"
     ]
    },
    {
     "name": "stdout",
     "output_type": "stream",
     "text": [
      "Iteration: \t34 / 100\n",
      "Confirmed: \t70\n",
      "Tentative: \t3\n",
      "Rejected: \t16\n"
     ]
    },
    {
     "name": "stderr",
     "output_type": "stream",
     "text": [
      "C:\\Users\\Ankur\\Anaconda3\\lib\\site-packages\\boruta\\boruta_py.py:418: RuntimeWarning: invalid value encountered in greater\n",
      "  hits = np.where(cur_imp[0] > imp_sha_max)[0]\n"
     ]
    },
    {
     "name": "stdout",
     "output_type": "stream",
     "text": [
      "Iteration: \t35 / 100\n",
      "Confirmed: \t70\n",
      "Tentative: \t3\n",
      "Rejected: \t16\n"
     ]
    },
    {
     "name": "stderr",
     "output_type": "stream",
     "text": [
      "C:\\Users\\Ankur\\Anaconda3\\lib\\site-packages\\boruta\\boruta_py.py:418: RuntimeWarning: invalid value encountered in greater\n",
      "  hits = np.where(cur_imp[0] > imp_sha_max)[0]\n"
     ]
    },
    {
     "name": "stdout",
     "output_type": "stream",
     "text": [
      "Iteration: \t36 / 100\n",
      "Confirmed: \t70\n",
      "Tentative: \t3\n",
      "Rejected: \t16\n"
     ]
    },
    {
     "name": "stderr",
     "output_type": "stream",
     "text": [
      "C:\\Users\\Ankur\\Anaconda3\\lib\\site-packages\\boruta\\boruta_py.py:418: RuntimeWarning: invalid value encountered in greater\n",
      "  hits = np.where(cur_imp[0] > imp_sha_max)[0]\n"
     ]
    },
    {
     "name": "stdout",
     "output_type": "stream",
     "text": [
      "Iteration: \t37 / 100\n",
      "Confirmed: \t70\n",
      "Tentative: \t3\n",
      "Rejected: \t16\n"
     ]
    },
    {
     "name": "stderr",
     "output_type": "stream",
     "text": [
      "C:\\Users\\Ankur\\Anaconda3\\lib\\site-packages\\boruta\\boruta_py.py:418: RuntimeWarning: invalid value encountered in greater\n",
      "  hits = np.where(cur_imp[0] > imp_sha_max)[0]\n"
     ]
    },
    {
     "name": "stdout",
     "output_type": "stream",
     "text": [
      "Iteration: \t38 / 100\n",
      "Confirmed: \t70\n",
      "Tentative: \t3\n",
      "Rejected: \t16\n"
     ]
    },
    {
     "name": "stderr",
     "output_type": "stream",
     "text": [
      "C:\\Users\\Ankur\\Anaconda3\\lib\\site-packages\\boruta\\boruta_py.py:418: RuntimeWarning: invalid value encountered in greater\n",
      "  hits = np.where(cur_imp[0] > imp_sha_max)[0]\n"
     ]
    },
    {
     "name": "stdout",
     "output_type": "stream",
     "text": [
      "Iteration: \t39 / 100\n",
      "Confirmed: \t70\n",
      "Tentative: \t3\n",
      "Rejected: \t16\n"
     ]
    },
    {
     "name": "stderr",
     "output_type": "stream",
     "text": [
      "C:\\Users\\Ankur\\Anaconda3\\lib\\site-packages\\boruta\\boruta_py.py:418: RuntimeWarning: invalid value encountered in greater\n",
      "  hits = np.where(cur_imp[0] > imp_sha_max)[0]\n"
     ]
    },
    {
     "name": "stdout",
     "output_type": "stream",
     "text": [
      "Iteration: \t40 / 100\n",
      "Confirmed: \t70\n",
      "Tentative: \t3\n",
      "Rejected: \t16\n"
     ]
    },
    {
     "name": "stderr",
     "output_type": "stream",
     "text": [
      "C:\\Users\\Ankur\\Anaconda3\\lib\\site-packages\\boruta\\boruta_py.py:418: RuntimeWarning: invalid value encountered in greater\n",
      "  hits = np.where(cur_imp[0] > imp_sha_max)[0]\n"
     ]
    },
    {
     "name": "stdout",
     "output_type": "stream",
     "text": [
      "Iteration: \t41 / 100\n",
      "Confirmed: \t70\n",
      "Tentative: \t3\n",
      "Rejected: \t16\n"
     ]
    },
    {
     "name": "stderr",
     "output_type": "stream",
     "text": [
      "C:\\Users\\Ankur\\Anaconda3\\lib\\site-packages\\boruta\\boruta_py.py:418: RuntimeWarning: invalid value encountered in greater\n",
      "  hits = np.where(cur_imp[0] > imp_sha_max)[0]\n"
     ]
    },
    {
     "name": "stdout",
     "output_type": "stream",
     "text": [
      "Iteration: \t42 / 100\n",
      "Confirmed: \t70\n",
      "Tentative: \t3\n",
      "Rejected: \t16\n"
     ]
    },
    {
     "name": "stderr",
     "output_type": "stream",
     "text": [
      "C:\\Users\\Ankur\\Anaconda3\\lib\\site-packages\\boruta\\boruta_py.py:418: RuntimeWarning: invalid value encountered in greater\n",
      "  hits = np.where(cur_imp[0] > imp_sha_max)[0]\n"
     ]
    },
    {
     "name": "stdout",
     "output_type": "stream",
     "text": [
      "Iteration: \t43 / 100\n",
      "Confirmed: \t70\n",
      "Tentative: \t3\n",
      "Rejected: \t16\n"
     ]
    },
    {
     "name": "stderr",
     "output_type": "stream",
     "text": [
      "C:\\Users\\Ankur\\Anaconda3\\lib\\site-packages\\boruta\\boruta_py.py:418: RuntimeWarning: invalid value encountered in greater\n",
      "  hits = np.where(cur_imp[0] > imp_sha_max)[0]\n"
     ]
    },
    {
     "name": "stdout",
     "output_type": "stream",
     "text": [
      "Iteration: \t44 / 100\n",
      "Confirmed: \t70\n",
      "Tentative: \t3\n",
      "Rejected: \t16\n"
     ]
    },
    {
     "name": "stderr",
     "output_type": "stream",
     "text": [
      "C:\\Users\\Ankur\\Anaconda3\\lib\\site-packages\\boruta\\boruta_py.py:418: RuntimeWarning: invalid value encountered in greater\n",
      "  hits = np.where(cur_imp[0] > imp_sha_max)[0]\n"
     ]
    },
    {
     "name": "stdout",
     "output_type": "stream",
     "text": [
      "Iteration: \t45 / 100\n",
      "Confirmed: \t70\n",
      "Tentative: \t3\n",
      "Rejected: \t16\n"
     ]
    },
    {
     "name": "stderr",
     "output_type": "stream",
     "text": [
      "C:\\Users\\Ankur\\Anaconda3\\lib\\site-packages\\boruta\\boruta_py.py:418: RuntimeWarning: invalid value encountered in greater\n",
      "  hits = np.where(cur_imp[0] > imp_sha_max)[0]\n"
     ]
    },
    {
     "name": "stdout",
     "output_type": "stream",
     "text": [
      "Iteration: \t46 / 100\n",
      "Confirmed: \t70\n",
      "Tentative: \t3\n",
      "Rejected: \t16\n"
     ]
    },
    {
     "name": "stderr",
     "output_type": "stream",
     "text": [
      "C:\\Users\\Ankur\\Anaconda3\\lib\\site-packages\\boruta\\boruta_py.py:418: RuntimeWarning: invalid value encountered in greater\n",
      "  hits = np.where(cur_imp[0] > imp_sha_max)[0]\n"
     ]
    },
    {
     "name": "stdout",
     "output_type": "stream",
     "text": [
      "Iteration: \t47 / 100\n",
      "Confirmed: \t70\n",
      "Tentative: \t3\n",
      "Rejected: \t16\n"
     ]
    },
    {
     "name": "stderr",
     "output_type": "stream",
     "text": [
      "C:\\Users\\Ankur\\Anaconda3\\lib\\site-packages\\boruta\\boruta_py.py:418: RuntimeWarning: invalid value encountered in greater\n",
      "  hits = np.where(cur_imp[0] > imp_sha_max)[0]\n"
     ]
    },
    {
     "name": "stdout",
     "output_type": "stream",
     "text": [
      "Iteration: \t48 / 100\n",
      "Confirmed: \t70\n",
      "Tentative: \t3\n",
      "Rejected: \t16\n"
     ]
    },
    {
     "name": "stderr",
     "output_type": "stream",
     "text": [
      "C:\\Users\\Ankur\\Anaconda3\\lib\\site-packages\\boruta\\boruta_py.py:418: RuntimeWarning: invalid value encountered in greater\n",
      "  hits = np.where(cur_imp[0] > imp_sha_max)[0]\n"
     ]
    },
    {
     "name": "stdout",
     "output_type": "stream",
     "text": [
      "Iteration: \t49 / 100\n",
      "Confirmed: \t70\n",
      "Tentative: \t3\n",
      "Rejected: \t16\n"
     ]
    },
    {
     "name": "stderr",
     "output_type": "stream",
     "text": [
      "C:\\Users\\Ankur\\Anaconda3\\lib\\site-packages\\boruta\\boruta_py.py:418: RuntimeWarning: invalid value encountered in greater\n",
      "  hits = np.where(cur_imp[0] > imp_sha_max)[0]\n"
     ]
    },
    {
     "name": "stdout",
     "output_type": "stream",
     "text": [
      "Iteration: \t50 / 100\n",
      "Confirmed: \t70\n",
      "Tentative: \t3\n",
      "Rejected: \t16\n"
     ]
    },
    {
     "name": "stderr",
     "output_type": "stream",
     "text": [
      "C:\\Users\\Ankur\\Anaconda3\\lib\\site-packages\\boruta\\boruta_py.py:418: RuntimeWarning: invalid value encountered in greater\n",
      "  hits = np.where(cur_imp[0] > imp_sha_max)[0]\n"
     ]
    },
    {
     "name": "stdout",
     "output_type": "stream",
     "text": [
      "Iteration: \t51 / 100\n",
      "Confirmed: \t70\n",
      "Tentative: \t3\n",
      "Rejected: \t16\n"
     ]
    },
    {
     "name": "stderr",
     "output_type": "stream",
     "text": [
      "C:\\Users\\Ankur\\Anaconda3\\lib\\site-packages\\boruta\\boruta_py.py:418: RuntimeWarning: invalid value encountered in greater\n",
      "  hits = np.where(cur_imp[0] > imp_sha_max)[0]\n"
     ]
    },
    {
     "name": "stdout",
     "output_type": "stream",
     "text": [
      "Iteration: \t52 / 100\n",
      "Confirmed: \t70\n",
      "Tentative: \t3\n",
      "Rejected: \t16\n"
     ]
    },
    {
     "name": "stderr",
     "output_type": "stream",
     "text": [
      "C:\\Users\\Ankur\\Anaconda3\\lib\\site-packages\\boruta\\boruta_py.py:418: RuntimeWarning: invalid value encountered in greater\n",
      "  hits = np.where(cur_imp[0] > imp_sha_max)[0]\n"
     ]
    },
    {
     "name": "stdout",
     "output_type": "stream",
     "text": [
      "Iteration: \t53 / 100\n",
      "Confirmed: \t70\n",
      "Tentative: \t3\n",
      "Rejected: \t16\n"
     ]
    },
    {
     "name": "stderr",
     "output_type": "stream",
     "text": [
      "C:\\Users\\Ankur\\Anaconda3\\lib\\site-packages\\boruta\\boruta_py.py:418: RuntimeWarning: invalid value encountered in greater\n",
      "  hits = np.where(cur_imp[0] > imp_sha_max)[0]\n"
     ]
    },
    {
     "name": "stdout",
     "output_type": "stream",
     "text": [
      "Iteration: \t54 / 100\n",
      "Confirmed: \t70\n",
      "Tentative: \t3\n",
      "Rejected: \t16\n"
     ]
    },
    {
     "name": "stderr",
     "output_type": "stream",
     "text": [
      "C:\\Users\\Ankur\\Anaconda3\\lib\\site-packages\\boruta\\boruta_py.py:418: RuntimeWarning: invalid value encountered in greater\n",
      "  hits = np.where(cur_imp[0] > imp_sha_max)[0]\n"
     ]
    },
    {
     "name": "stdout",
     "output_type": "stream",
     "text": [
      "Iteration: \t55 / 100\n",
      "Confirmed: \t70\n",
      "Tentative: \t3\n",
      "Rejected: \t16\n"
     ]
    },
    {
     "name": "stderr",
     "output_type": "stream",
     "text": [
      "C:\\Users\\Ankur\\Anaconda3\\lib\\site-packages\\boruta\\boruta_py.py:418: RuntimeWarning: invalid value encountered in greater\n",
      "  hits = np.where(cur_imp[0] > imp_sha_max)[0]\n"
     ]
    },
    {
     "name": "stdout",
     "output_type": "stream",
     "text": [
      "Iteration: \t56 / 100\n",
      "Confirmed: \t70\n",
      "Tentative: \t3\n",
      "Rejected: \t16\n"
     ]
    },
    {
     "name": "stderr",
     "output_type": "stream",
     "text": [
      "C:\\Users\\Ankur\\Anaconda3\\lib\\site-packages\\boruta\\boruta_py.py:418: RuntimeWarning: invalid value encountered in greater\n",
      "  hits = np.where(cur_imp[0] > imp_sha_max)[0]\n"
     ]
    },
    {
     "name": "stdout",
     "output_type": "stream",
     "text": [
      "Iteration: \t57 / 100\n",
      "Confirmed: \t70\n",
      "Tentative: \t3\n",
      "Rejected: \t16\n"
     ]
    },
    {
     "name": "stderr",
     "output_type": "stream",
     "text": [
      "C:\\Users\\Ankur\\Anaconda3\\lib\\site-packages\\boruta\\boruta_py.py:418: RuntimeWarning: invalid value encountered in greater\n",
      "  hits = np.where(cur_imp[0] > imp_sha_max)[0]\n"
     ]
    },
    {
     "name": "stdout",
     "output_type": "stream",
     "text": [
      "Iteration: \t58 / 100\n",
      "Confirmed: \t70\n",
      "Tentative: \t3\n",
      "Rejected: \t16\n"
     ]
    },
    {
     "name": "stderr",
     "output_type": "stream",
     "text": [
      "C:\\Users\\Ankur\\Anaconda3\\lib\\site-packages\\boruta\\boruta_py.py:418: RuntimeWarning: invalid value encountered in greater\n",
      "  hits = np.where(cur_imp[0] > imp_sha_max)[0]\n"
     ]
    },
    {
     "name": "stdout",
     "output_type": "stream",
     "text": [
      "Iteration: \t59 / 100\n",
      "Confirmed: \t70\n",
      "Tentative: \t3\n",
      "Rejected: \t16\n"
     ]
    },
    {
     "name": "stderr",
     "output_type": "stream",
     "text": [
      "C:\\Users\\Ankur\\Anaconda3\\lib\\site-packages\\boruta\\boruta_py.py:418: RuntimeWarning: invalid value encountered in greater\n",
      "  hits = np.where(cur_imp[0] > imp_sha_max)[0]\n"
     ]
    },
    {
     "name": "stdout",
     "output_type": "stream",
     "text": [
      "Iteration: \t60 / 100\n",
      "Confirmed: \t70\n",
      "Tentative: \t3\n",
      "Rejected: \t16\n"
     ]
    },
    {
     "name": "stderr",
     "output_type": "stream",
     "text": [
      "C:\\Users\\Ankur\\Anaconda3\\lib\\site-packages\\boruta\\boruta_py.py:418: RuntimeWarning: invalid value encountered in greater\n",
      "  hits = np.where(cur_imp[0] > imp_sha_max)[0]\n"
     ]
    },
    {
     "name": "stdout",
     "output_type": "stream",
     "text": [
      "Iteration: \t61 / 100\n",
      "Confirmed: \t70\n",
      "Tentative: \t3\n",
      "Rejected: \t16\n"
     ]
    },
    {
     "name": "stderr",
     "output_type": "stream",
     "text": [
      "C:\\Users\\Ankur\\Anaconda3\\lib\\site-packages\\boruta\\boruta_py.py:418: RuntimeWarning: invalid value encountered in greater\n",
      "  hits = np.where(cur_imp[0] > imp_sha_max)[0]\n"
     ]
    },
    {
     "name": "stdout",
     "output_type": "stream",
     "text": [
      "Iteration: \t62 / 100\n",
      "Confirmed: \t70\n",
      "Tentative: \t3\n",
      "Rejected: \t16\n"
     ]
    },
    {
     "name": "stderr",
     "output_type": "stream",
     "text": [
      "C:\\Users\\Ankur\\Anaconda3\\lib\\site-packages\\boruta\\boruta_py.py:418: RuntimeWarning: invalid value encountered in greater\n",
      "  hits = np.where(cur_imp[0] > imp_sha_max)[0]\n"
     ]
    },
    {
     "name": "stdout",
     "output_type": "stream",
     "text": [
      "Iteration: \t63 / 100\n",
      "Confirmed: \t70\n",
      "Tentative: \t3\n",
      "Rejected: \t16\n"
     ]
    },
    {
     "name": "stderr",
     "output_type": "stream",
     "text": [
      "C:\\Users\\Ankur\\Anaconda3\\lib\\site-packages\\boruta\\boruta_py.py:418: RuntimeWarning: invalid value encountered in greater\n",
      "  hits = np.where(cur_imp[0] > imp_sha_max)[0]\n"
     ]
    },
    {
     "name": "stdout",
     "output_type": "stream",
     "text": [
      "Iteration: \t64 / 100\n",
      "Confirmed: \t70\n",
      "Tentative: \t3\n",
      "Rejected: \t16\n"
     ]
    },
    {
     "name": "stderr",
     "output_type": "stream",
     "text": [
      "C:\\Users\\Ankur\\Anaconda3\\lib\\site-packages\\boruta\\boruta_py.py:418: RuntimeWarning: invalid value encountered in greater\n",
      "  hits = np.where(cur_imp[0] > imp_sha_max)[0]\n"
     ]
    },
    {
     "name": "stdout",
     "output_type": "stream",
     "text": [
      "Iteration: \t65 / 100\n",
      "Confirmed: \t70\n",
      "Tentative: \t3\n",
      "Rejected: \t16\n"
     ]
    },
    {
     "name": "stderr",
     "output_type": "stream",
     "text": [
      "C:\\Users\\Ankur\\Anaconda3\\lib\\site-packages\\boruta\\boruta_py.py:418: RuntimeWarning: invalid value encountered in greater\n",
      "  hits = np.where(cur_imp[0] > imp_sha_max)[0]\n"
     ]
    },
    {
     "name": "stdout",
     "output_type": "stream",
     "text": [
      "Iteration: \t66 / 100\n",
      "Confirmed: \t70\n",
      "Tentative: \t3\n",
      "Rejected: \t16\n"
     ]
    },
    {
     "name": "stderr",
     "output_type": "stream",
     "text": [
      "C:\\Users\\Ankur\\Anaconda3\\lib\\site-packages\\boruta\\boruta_py.py:418: RuntimeWarning: invalid value encountered in greater\n",
      "  hits = np.where(cur_imp[0] > imp_sha_max)[0]\n"
     ]
    },
    {
     "name": "stdout",
     "output_type": "stream",
     "text": [
      "Iteration: \t67 / 100\n",
      "Confirmed: \t70\n",
      "Tentative: \t3\n",
      "Rejected: \t16\n"
     ]
    },
    {
     "name": "stderr",
     "output_type": "stream",
     "text": [
      "C:\\Users\\Ankur\\Anaconda3\\lib\\site-packages\\boruta\\boruta_py.py:418: RuntimeWarning: invalid value encountered in greater\n",
      "  hits = np.where(cur_imp[0] > imp_sha_max)[0]\n"
     ]
    },
    {
     "name": "stdout",
     "output_type": "stream",
     "text": [
      "Iteration: \t68 / 100\n",
      "Confirmed: \t70\n",
      "Tentative: \t3\n",
      "Rejected: \t16\n"
     ]
    },
    {
     "name": "stderr",
     "output_type": "stream",
     "text": [
      "C:\\Users\\Ankur\\Anaconda3\\lib\\site-packages\\boruta\\boruta_py.py:418: RuntimeWarning: invalid value encountered in greater\n",
      "  hits = np.where(cur_imp[0] > imp_sha_max)[0]\n"
     ]
    },
    {
     "name": "stdout",
     "output_type": "stream",
     "text": [
      "Iteration: \t69 / 100\n",
      "Confirmed: \t70\n",
      "Tentative: \t3\n",
      "Rejected: \t16\n"
     ]
    },
    {
     "name": "stderr",
     "output_type": "stream",
     "text": [
      "C:\\Users\\Ankur\\Anaconda3\\lib\\site-packages\\boruta\\boruta_py.py:418: RuntimeWarning: invalid value encountered in greater\n",
      "  hits = np.where(cur_imp[0] > imp_sha_max)[0]\n"
     ]
    },
    {
     "name": "stdout",
     "output_type": "stream",
     "text": [
      "Iteration: \t70 / 100\n",
      "Confirmed: \t70\n",
      "Tentative: \t3\n",
      "Rejected: \t16\n"
     ]
    },
    {
     "name": "stderr",
     "output_type": "stream",
     "text": [
      "C:\\Users\\Ankur\\Anaconda3\\lib\\site-packages\\boruta\\boruta_py.py:418: RuntimeWarning: invalid value encountered in greater\n",
      "  hits = np.where(cur_imp[0] > imp_sha_max)[0]\n"
     ]
    },
    {
     "name": "stdout",
     "output_type": "stream",
     "text": [
      "Iteration: \t71 / 100\n",
      "Confirmed: \t70\n",
      "Tentative: \t3\n",
      "Rejected: \t16\n"
     ]
    },
    {
     "name": "stderr",
     "output_type": "stream",
     "text": [
      "C:\\Users\\Ankur\\Anaconda3\\lib\\site-packages\\boruta\\boruta_py.py:418: RuntimeWarning: invalid value encountered in greater\n",
      "  hits = np.where(cur_imp[0] > imp_sha_max)[0]\n"
     ]
    },
    {
     "name": "stdout",
     "output_type": "stream",
     "text": [
      "Iteration: \t72 / 100\n",
      "Confirmed: \t70\n",
      "Tentative: \t3\n",
      "Rejected: \t16\n"
     ]
    },
    {
     "name": "stderr",
     "output_type": "stream",
     "text": [
      "C:\\Users\\Ankur\\Anaconda3\\lib\\site-packages\\boruta\\boruta_py.py:418: RuntimeWarning: invalid value encountered in greater\n",
      "  hits = np.where(cur_imp[0] > imp_sha_max)[0]\n"
     ]
    },
    {
     "name": "stdout",
     "output_type": "stream",
     "text": [
      "Iteration: \t73 / 100\n",
      "Confirmed: \t70\n",
      "Tentative: \t3\n",
      "Rejected: \t16\n"
     ]
    },
    {
     "name": "stderr",
     "output_type": "stream",
     "text": [
      "C:\\Users\\Ankur\\Anaconda3\\lib\\site-packages\\boruta\\boruta_py.py:418: RuntimeWarning: invalid value encountered in greater\n",
      "  hits = np.where(cur_imp[0] > imp_sha_max)[0]\n"
     ]
    },
    {
     "name": "stdout",
     "output_type": "stream",
     "text": [
      "Iteration: \t74 / 100\n",
      "Confirmed: \t70\n",
      "Tentative: \t3\n",
      "Rejected: \t16\n"
     ]
    },
    {
     "name": "stderr",
     "output_type": "stream",
     "text": [
      "C:\\Users\\Ankur\\Anaconda3\\lib\\site-packages\\boruta\\boruta_py.py:418: RuntimeWarning: invalid value encountered in greater\n",
      "  hits = np.where(cur_imp[0] > imp_sha_max)[0]\n"
     ]
    },
    {
     "name": "stdout",
     "output_type": "stream",
     "text": [
      "Iteration: \t75 / 100\n",
      "Confirmed: \t70\n",
      "Tentative: \t3\n",
      "Rejected: \t16\n"
     ]
    },
    {
     "name": "stderr",
     "output_type": "stream",
     "text": [
      "C:\\Users\\Ankur\\Anaconda3\\lib\\site-packages\\boruta\\boruta_py.py:418: RuntimeWarning: invalid value encountered in greater\n",
      "  hits = np.where(cur_imp[0] > imp_sha_max)[0]\n"
     ]
    },
    {
     "name": "stdout",
     "output_type": "stream",
     "text": [
      "Iteration: \t76 / 100\n",
      "Confirmed: \t70\n",
      "Tentative: \t3\n",
      "Rejected: \t16\n"
     ]
    },
    {
     "name": "stderr",
     "output_type": "stream",
     "text": [
      "C:\\Users\\Ankur\\Anaconda3\\lib\\site-packages\\boruta\\boruta_py.py:418: RuntimeWarning: invalid value encountered in greater\n",
      "  hits = np.where(cur_imp[0] > imp_sha_max)[0]\n"
     ]
    },
    {
     "name": "stdout",
     "output_type": "stream",
     "text": [
      "Iteration: \t77 / 100\n",
      "Confirmed: \t70\n",
      "Tentative: \t3\n",
      "Rejected: \t16\n"
     ]
    },
    {
     "name": "stderr",
     "output_type": "stream",
     "text": [
      "C:\\Users\\Ankur\\Anaconda3\\lib\\site-packages\\boruta\\boruta_py.py:418: RuntimeWarning: invalid value encountered in greater\n",
      "  hits = np.where(cur_imp[0] > imp_sha_max)[0]\n"
     ]
    },
    {
     "name": "stdout",
     "output_type": "stream",
     "text": [
      "Iteration: \t78 / 100\n",
      "Confirmed: \t70\n",
      "Tentative: \t3\n",
      "Rejected: \t16\n"
     ]
    },
    {
     "name": "stderr",
     "output_type": "stream",
     "text": [
      "C:\\Users\\Ankur\\Anaconda3\\lib\\site-packages\\boruta\\boruta_py.py:418: RuntimeWarning: invalid value encountered in greater\n",
      "  hits = np.where(cur_imp[0] > imp_sha_max)[0]\n"
     ]
    },
    {
     "name": "stdout",
     "output_type": "stream",
     "text": [
      "Iteration: \t79 / 100\n",
      "Confirmed: \t70\n",
      "Tentative: \t3\n",
      "Rejected: \t16\n"
     ]
    },
    {
     "name": "stderr",
     "output_type": "stream",
     "text": [
      "C:\\Users\\Ankur\\Anaconda3\\lib\\site-packages\\boruta\\boruta_py.py:418: RuntimeWarning: invalid value encountered in greater\n",
      "  hits = np.where(cur_imp[0] > imp_sha_max)[0]\n"
     ]
    },
    {
     "name": "stdout",
     "output_type": "stream",
     "text": [
      "Iteration: \t80 / 100\n",
      "Confirmed: \t70\n",
      "Tentative: \t3\n",
      "Rejected: \t16\n"
     ]
    },
    {
     "name": "stderr",
     "output_type": "stream",
     "text": [
      "C:\\Users\\Ankur\\Anaconda3\\lib\\site-packages\\boruta\\boruta_py.py:418: RuntimeWarning: invalid value encountered in greater\n",
      "  hits = np.where(cur_imp[0] > imp_sha_max)[0]\n"
     ]
    },
    {
     "name": "stdout",
     "output_type": "stream",
     "text": [
      "Iteration: \t81 / 100\n",
      "Confirmed: \t70\n",
      "Tentative: \t3\n",
      "Rejected: \t16\n"
     ]
    },
    {
     "name": "stderr",
     "output_type": "stream",
     "text": [
      "C:\\Users\\Ankur\\Anaconda3\\lib\\site-packages\\boruta\\boruta_py.py:418: RuntimeWarning: invalid value encountered in greater\n",
      "  hits = np.where(cur_imp[0] > imp_sha_max)[0]\n"
     ]
    },
    {
     "name": "stdout",
     "output_type": "stream",
     "text": [
      "Iteration: \t82 / 100\n",
      "Confirmed: \t70\n",
      "Tentative: \t3\n",
      "Rejected: \t16\n"
     ]
    },
    {
     "name": "stderr",
     "output_type": "stream",
     "text": [
      "C:\\Users\\Ankur\\Anaconda3\\lib\\site-packages\\boruta\\boruta_py.py:418: RuntimeWarning: invalid value encountered in greater\n",
      "  hits = np.where(cur_imp[0] > imp_sha_max)[0]\n"
     ]
    },
    {
     "name": "stdout",
     "output_type": "stream",
     "text": [
      "Iteration: \t83 / 100\n",
      "Confirmed: \t70\n",
      "Tentative: \t3\n",
      "Rejected: \t16\n"
     ]
    },
    {
     "name": "stderr",
     "output_type": "stream",
     "text": [
      "C:\\Users\\Ankur\\Anaconda3\\lib\\site-packages\\boruta\\boruta_py.py:418: RuntimeWarning: invalid value encountered in greater\n",
      "  hits = np.where(cur_imp[0] > imp_sha_max)[0]\n"
     ]
    },
    {
     "name": "stdout",
     "output_type": "stream",
     "text": [
      "Iteration: \t84 / 100\n",
      "Confirmed: \t70\n",
      "Tentative: \t3\n",
      "Rejected: \t16\n"
     ]
    },
    {
     "name": "stderr",
     "output_type": "stream",
     "text": [
      "C:\\Users\\Ankur\\Anaconda3\\lib\\site-packages\\boruta\\boruta_py.py:418: RuntimeWarning: invalid value encountered in greater\n",
      "  hits = np.where(cur_imp[0] > imp_sha_max)[0]\n"
     ]
    },
    {
     "name": "stdout",
     "output_type": "stream",
     "text": [
      "Iteration: \t85 / 100\n",
      "Confirmed: \t70\n",
      "Tentative: \t3\n",
      "Rejected: \t16\n"
     ]
    },
    {
     "name": "stderr",
     "output_type": "stream",
     "text": [
      "C:\\Users\\Ankur\\Anaconda3\\lib\\site-packages\\boruta\\boruta_py.py:418: RuntimeWarning: invalid value encountered in greater\n",
      "  hits = np.where(cur_imp[0] > imp_sha_max)[0]\n"
     ]
    },
    {
     "name": "stdout",
     "output_type": "stream",
     "text": [
      "Iteration: \t86 / 100\n",
      "Confirmed: \t70\n",
      "Tentative: \t3\n",
      "Rejected: \t16\n"
     ]
    },
    {
     "name": "stderr",
     "output_type": "stream",
     "text": [
      "C:\\Users\\Ankur\\Anaconda3\\lib\\site-packages\\boruta\\boruta_py.py:418: RuntimeWarning: invalid value encountered in greater\n",
      "  hits = np.where(cur_imp[0] > imp_sha_max)[0]\n"
     ]
    },
    {
     "name": "stdout",
     "output_type": "stream",
     "text": [
      "Iteration: \t87 / 100\n",
      "Confirmed: \t70\n",
      "Tentative: \t3\n",
      "Rejected: \t16\n"
     ]
    },
    {
     "name": "stderr",
     "output_type": "stream",
     "text": [
      "C:\\Users\\Ankur\\Anaconda3\\lib\\site-packages\\boruta\\boruta_py.py:418: RuntimeWarning: invalid value encountered in greater\n",
      "  hits = np.where(cur_imp[0] > imp_sha_max)[0]\n"
     ]
    },
    {
     "name": "stdout",
     "output_type": "stream",
     "text": [
      "Iteration: \t88 / 100\n",
      "Confirmed: \t70\n",
      "Tentative: \t3\n",
      "Rejected: \t16\n"
     ]
    },
    {
     "name": "stderr",
     "output_type": "stream",
     "text": [
      "C:\\Users\\Ankur\\Anaconda3\\lib\\site-packages\\boruta\\boruta_py.py:418: RuntimeWarning: invalid value encountered in greater\n",
      "  hits = np.where(cur_imp[0] > imp_sha_max)[0]\n"
     ]
    },
    {
     "name": "stdout",
     "output_type": "stream",
     "text": [
      "Iteration: \t89 / 100\n",
      "Confirmed: \t70\n",
      "Tentative: \t3\n",
      "Rejected: \t16\n"
     ]
    },
    {
     "name": "stderr",
     "output_type": "stream",
     "text": [
      "C:\\Users\\Ankur\\Anaconda3\\lib\\site-packages\\boruta\\boruta_py.py:418: RuntimeWarning: invalid value encountered in greater\n",
      "  hits = np.where(cur_imp[0] > imp_sha_max)[0]\n"
     ]
    },
    {
     "name": "stdout",
     "output_type": "stream",
     "text": [
      "Iteration: \t90 / 100\n",
      "Confirmed: \t70\n",
      "Tentative: \t3\n",
      "Rejected: \t16\n"
     ]
    },
    {
     "name": "stderr",
     "output_type": "stream",
     "text": [
      "C:\\Users\\Ankur\\Anaconda3\\lib\\site-packages\\boruta\\boruta_py.py:418: RuntimeWarning: invalid value encountered in greater\n",
      "  hits = np.where(cur_imp[0] > imp_sha_max)[0]\n"
     ]
    },
    {
     "name": "stdout",
     "output_type": "stream",
     "text": [
      "Iteration: \t91 / 100\n",
      "Confirmed: \t70\n",
      "Tentative: \t3\n",
      "Rejected: \t16\n"
     ]
    },
    {
     "name": "stderr",
     "output_type": "stream",
     "text": [
      "C:\\Users\\Ankur\\Anaconda3\\lib\\site-packages\\boruta\\boruta_py.py:418: RuntimeWarning: invalid value encountered in greater\n",
      "  hits = np.where(cur_imp[0] > imp_sha_max)[0]\n"
     ]
    },
    {
     "name": "stdout",
     "output_type": "stream",
     "text": [
      "Iteration: \t92 / 100\n",
      "Confirmed: \t70\n",
      "Tentative: \t3\n",
      "Rejected: \t16\n"
     ]
    },
    {
     "name": "stderr",
     "output_type": "stream",
     "text": [
      "C:\\Users\\Ankur\\Anaconda3\\lib\\site-packages\\boruta\\boruta_py.py:418: RuntimeWarning: invalid value encountered in greater\n",
      "  hits = np.where(cur_imp[0] > imp_sha_max)[0]\n"
     ]
    },
    {
     "name": "stdout",
     "output_type": "stream",
     "text": [
      "Iteration: \t93 / 100\n",
      "Confirmed: \t70\n",
      "Tentative: \t3\n",
      "Rejected: \t16\n"
     ]
    },
    {
     "name": "stderr",
     "output_type": "stream",
     "text": [
      "C:\\Users\\Ankur\\Anaconda3\\lib\\site-packages\\boruta\\boruta_py.py:418: RuntimeWarning: invalid value encountered in greater\n",
      "  hits = np.where(cur_imp[0] > imp_sha_max)[0]\n"
     ]
    },
    {
     "name": "stdout",
     "output_type": "stream",
     "text": [
      "Iteration: \t94 / 100\n",
      "Confirmed: \t70\n",
      "Tentative: \t3\n",
      "Rejected: \t16\n"
     ]
    },
    {
     "name": "stderr",
     "output_type": "stream",
     "text": [
      "C:\\Users\\Ankur\\Anaconda3\\lib\\site-packages\\boruta\\boruta_py.py:418: RuntimeWarning: invalid value encountered in greater\n",
      "  hits = np.where(cur_imp[0] > imp_sha_max)[0]\n"
     ]
    },
    {
     "name": "stdout",
     "output_type": "stream",
     "text": [
      "Iteration: \t95 / 100\n",
      "Confirmed: \t70\n",
      "Tentative: \t3\n",
      "Rejected: \t16\n"
     ]
    },
    {
     "name": "stderr",
     "output_type": "stream",
     "text": [
      "C:\\Users\\Ankur\\Anaconda3\\lib\\site-packages\\boruta\\boruta_py.py:418: RuntimeWarning: invalid value encountered in greater\n",
      "  hits = np.where(cur_imp[0] > imp_sha_max)[0]\n"
     ]
    },
    {
     "name": "stdout",
     "output_type": "stream",
     "text": [
      "Iteration: \t96 / 100\n",
      "Confirmed: \t70\n",
      "Tentative: \t3\n",
      "Rejected: \t16\n"
     ]
    },
    {
     "name": "stderr",
     "output_type": "stream",
     "text": [
      "C:\\Users\\Ankur\\Anaconda3\\lib\\site-packages\\boruta\\boruta_py.py:418: RuntimeWarning: invalid value encountered in greater\n",
      "  hits = np.where(cur_imp[0] > imp_sha_max)[0]\n"
     ]
    },
    {
     "name": "stdout",
     "output_type": "stream",
     "text": [
      "Iteration: \t97 / 100\n",
      "Confirmed: \t70\n",
      "Tentative: \t3\n",
      "Rejected: \t16\n"
     ]
    },
    {
     "name": "stderr",
     "output_type": "stream",
     "text": [
      "C:\\Users\\Ankur\\Anaconda3\\lib\\site-packages\\boruta\\boruta_py.py:418: RuntimeWarning: invalid value encountered in greater\n",
      "  hits = np.where(cur_imp[0] > imp_sha_max)[0]\n"
     ]
    },
    {
     "name": "stdout",
     "output_type": "stream",
     "text": [
      "Iteration: \t98 / 100\n",
      "Confirmed: \t70\n",
      "Tentative: \t3\n",
      "Rejected: \t16\n",
      "Iteration: \t99 / 100\n",
      "Confirmed: \t70\n",
      "Tentative: \t3\n",
      "Rejected: \t16\n",
      "\n",
      "\n",
      "BorutaPy finished running.\n",
      "\n",
      "Iteration: \t100 / 100\n",
      "Confirmed: \t70\n",
      "Tentative: \t2\n",
      "Rejected: \t16\n",
      "\n",
      " Time taken: 0 hours 21 minutes and 11.79 seconds.\n"
     ]
    },
    {
     "name": "stderr",
     "output_type": "stream",
     "text": [
      "C:\\Users\\Ankur\\Anaconda3\\lib\\site-packages\\boruta\\boruta_py.py:418: RuntimeWarning: invalid value encountered in greater\n",
      "  hits = np.where(cur_imp[0] > imp_sha_max)[0]\n"
     ]
    }
   ],
   "source": [
    "rf = RandomForestClassifier(criterion='gini',\n",
    "                                n_estimators=500,\n",
    "                                max_features='auto',\n",
    "                                oob_score=True,\n",
    "                                random_state=1,\n",
    "                                n_jobs=-1,\n",
    "                                max_depth=6)\n",
    "\n",
    "X_boruta=features.values\n",
    "y_boruta=target.values\n",
    "\n",
    "boruta_selector = BorutaPy(rf, n_estimators='auto', verbose=2)\n",
    "start_time = timer(None)\n",
    "boruta_selector.fit(X_boruta,y_boruta)\n",
    "timer(start_time)"
   ]
  },
  {
   "cell_type": "code",
   "execution_count": 779,
   "metadata": {},
   "outputs": [
    {
     "name": "stdout",
     "output_type": "stream",
     "text": [
      "\n",
      " Number of selected features:\n",
      "70\n"
     ]
    }
   ],
   "source": [
    "# number of selected features\n",
    "print ('\\n Number of selected features:')\n",
    "print (boruta_selector.n_features_)"
   ]
  },
  {
   "cell_type": "code",
   "execution_count": 796,
   "metadata": {},
   "outputs": [
    {
     "name": "stdout",
     "output_type": "stream",
     "text": [
      "\n",
      " Top 70 features:\n",
      "                                           0  rank\n",
      "0                                 amount_tsh     1\n",
      "1                     payment_type_never pay     1\n",
      "2                       payment_type_monthly     1\n",
      "3                      payment_type_annually     1\n",
      "4                management_group_user-group     1\n",
      "5                management_group_commercial     1\n",
      "6          extraction_type_class_submersible     1\n",
      "7                    payment_type_per bucket     1\n",
      "8                extraction_type_class_other     1\n",
      "9      waterpoint_type_group_improved spring     1\n",
      "10             extraction_type_class_gravity     1\n",
      "11                 construction_year_unknown     1\n",
      "12                     construction_year_90s     1\n",
      "13                     construction_year_80s     1\n",
      "14                     construction_year_70s     1\n",
      "15           extraction_type_class_motorpump     1\n",
      "16                     construction_year_10s     1\n",
      "17                      payment_type_unknown     1\n",
      "18                        water_quality_soft     1\n",
      "19  waterpoint_type_group_communal standpipe     1\n",
      "20                      source_class_surface     1\n",
      "21                  source_class_groundwater     1\n",
      "22                        source_type_spring     1\n",
      "23                  source_type_shallow well     1\n",
      "24                    source_type_river/lake     1\n",
      "25                       water_quality_salty     1\n",
      "26          source_type_rainwater harvesting     1\n",
      "27                    quantity_group_unknown     1\n",
      "28                   quantity_group_seasonal     1\n",
      "29               quantity_group_insufficient     1\n",
      "..                                       ...   ...\n",
      "40                          basin_Lake Nyasa     1\n",
      "41                            basin_Internal     1\n",
      "42                             installer_rwe     1\n",
      "43                           installer_other     1\n",
      "44                      installer_government     1\n",
      "45                             installer_dwe     1\n",
      "46                           installer_commu     1\n",
      "47                         funder_world_bank     1\n",
      "48                              funder_rwssp     1\n",
      "49                              funder_other     1\n",
      "50                         funder_government     1\n",
      "51                             funder_danida     1\n",
      "52                                population     1\n",
      "53                       days_since_recorded     1\n",
      "54                       basin_Lake Victoria     1\n",
      "55                             basin_Pangani     1\n",
      "56               waterpoint_type_group_other     1\n",
      "57             basin_Ruvuma / Southern Coast     1\n",
      "58                              permit_False     1\n",
      "59                     scheme_management_wug     1\n",
      "60                     scheme_management_wua     1\n",
      "61                 scheme_management_wtr_brd     1\n",
      "62                scheme_management_wtr_auth     1\n",
      "63                     scheme_management_vwc     1\n",
      "64                   scheme_management_other     1\n",
      "65                              basin_Rufiji     1\n",
      "66                       public_meeting_True     1\n",
      "67                      public_meeting_False     1\n",
      "68                    public_meeting_Unknown     1\n",
      "69                         basin_Wami / Ruvu     1\n",
      "\n",
      "[70 rows x 2 columns]\n"
     ]
    }
   ],
   "source": [
    "features1=pd.DataFrame(features.columns.tolist())\n",
    "features1['rank']=boruta_selector.ranking_\n",
    "features1 = features1.sort_values('rank', ascending=True).reset_index(drop=True)\n",
    "print ('\\n Top %d features:' % boruta_selector.n_features_)\n",
    "print (features1.head(boruta_selector.n_features_))\n",
    "\n",
    "#From Boruta, we retained the 70 columns. The remaining columns whose rank is greater than 1 is not required. "
   ]
  },
  {
   "cell_type": "code",
   "execution_count": 798,
   "metadata": {},
   "outputs": [
    {
     "data": {
      "text/html": [
       "<div>\n",
       "<style scoped>\n",
       "    .dataframe tbody tr th:only-of-type {\n",
       "        vertical-align: middle;\n",
       "    }\n",
       "\n",
       "    .dataframe tbody tr th {\n",
       "        vertical-align: top;\n",
       "    }\n",
       "\n",
       "    .dataframe thead th {\n",
       "        text-align: right;\n",
       "    }\n",
       "</style>\n",
       "<table border=\"1\" class=\"dataframe\">\n",
       "  <thead>\n",
       "    <tr style=\"text-align: right;\">\n",
       "      <th></th>\n",
       "      <th>0</th>\n",
       "      <th>rank</th>\n",
       "    </tr>\n",
       "  </thead>\n",
       "  <tbody>\n",
       "    <tr>\n",
       "      <th>0</th>\n",
       "      <td>amount_tsh</td>\n",
       "      <td>1</td>\n",
       "    </tr>\n",
       "    <tr>\n",
       "      <th>1</th>\n",
       "      <td>payment_type_never pay</td>\n",
       "      <td>1</td>\n",
       "    </tr>\n",
       "    <tr>\n",
       "      <th>2</th>\n",
       "      <td>payment_type_monthly</td>\n",
       "      <td>1</td>\n",
       "    </tr>\n",
       "    <tr>\n",
       "      <th>3</th>\n",
       "      <td>payment_type_annually</td>\n",
       "      <td>1</td>\n",
       "    </tr>\n",
       "    <tr>\n",
       "      <th>4</th>\n",
       "      <td>management_group_user-group</td>\n",
       "      <td>1</td>\n",
       "    </tr>\n",
       "    <tr>\n",
       "      <th>5</th>\n",
       "      <td>management_group_commercial</td>\n",
       "      <td>1</td>\n",
       "    </tr>\n",
       "    <tr>\n",
       "      <th>6</th>\n",
       "      <td>extraction_type_class_submersible</td>\n",
       "      <td>1</td>\n",
       "    </tr>\n",
       "    <tr>\n",
       "      <th>7</th>\n",
       "      <td>payment_type_per bucket</td>\n",
       "      <td>1</td>\n",
       "    </tr>\n",
       "    <tr>\n",
       "      <th>8</th>\n",
       "      <td>extraction_type_class_other</td>\n",
       "      <td>1</td>\n",
       "    </tr>\n",
       "    <tr>\n",
       "      <th>9</th>\n",
       "      <td>waterpoint_type_group_improved spring</td>\n",
       "      <td>1</td>\n",
       "    </tr>\n",
       "    <tr>\n",
       "      <th>10</th>\n",
       "      <td>extraction_type_class_gravity</td>\n",
       "      <td>1</td>\n",
       "    </tr>\n",
       "    <tr>\n",
       "      <th>11</th>\n",
       "      <td>construction_year_unknown</td>\n",
       "      <td>1</td>\n",
       "    </tr>\n",
       "    <tr>\n",
       "      <th>12</th>\n",
       "      <td>construction_year_90s</td>\n",
       "      <td>1</td>\n",
       "    </tr>\n",
       "    <tr>\n",
       "      <th>13</th>\n",
       "      <td>construction_year_80s</td>\n",
       "      <td>1</td>\n",
       "    </tr>\n",
       "    <tr>\n",
       "      <th>14</th>\n",
       "      <td>construction_year_70s</td>\n",
       "      <td>1</td>\n",
       "    </tr>\n",
       "    <tr>\n",
       "      <th>15</th>\n",
       "      <td>extraction_type_class_motorpump</td>\n",
       "      <td>1</td>\n",
       "    </tr>\n",
       "    <tr>\n",
       "      <th>16</th>\n",
       "      <td>construction_year_10s</td>\n",
       "      <td>1</td>\n",
       "    </tr>\n",
       "    <tr>\n",
       "      <th>17</th>\n",
       "      <td>payment_type_unknown</td>\n",
       "      <td>1</td>\n",
       "    </tr>\n",
       "    <tr>\n",
       "      <th>18</th>\n",
       "      <td>water_quality_soft</td>\n",
       "      <td>1</td>\n",
       "    </tr>\n",
       "    <tr>\n",
       "      <th>19</th>\n",
       "      <td>waterpoint_type_group_communal standpipe</td>\n",
       "      <td>1</td>\n",
       "    </tr>\n",
       "    <tr>\n",
       "      <th>20</th>\n",
       "      <td>source_class_surface</td>\n",
       "      <td>1</td>\n",
       "    </tr>\n",
       "    <tr>\n",
       "      <th>21</th>\n",
       "      <td>source_class_groundwater</td>\n",
       "      <td>1</td>\n",
       "    </tr>\n",
       "    <tr>\n",
       "      <th>22</th>\n",
       "      <td>source_type_spring</td>\n",
       "      <td>1</td>\n",
       "    </tr>\n",
       "    <tr>\n",
       "      <th>23</th>\n",
       "      <td>source_type_shallow well</td>\n",
       "      <td>1</td>\n",
       "    </tr>\n",
       "    <tr>\n",
       "      <th>24</th>\n",
       "      <td>source_type_river/lake</td>\n",
       "      <td>1</td>\n",
       "    </tr>\n",
       "    <tr>\n",
       "      <th>25</th>\n",
       "      <td>water_quality_salty</td>\n",
       "      <td>1</td>\n",
       "    </tr>\n",
       "    <tr>\n",
       "      <th>26</th>\n",
       "      <td>source_type_rainwater harvesting</td>\n",
       "      <td>1</td>\n",
       "    </tr>\n",
       "    <tr>\n",
       "      <th>27</th>\n",
       "      <td>quantity_group_unknown</td>\n",
       "      <td>1</td>\n",
       "    </tr>\n",
       "    <tr>\n",
       "      <th>28</th>\n",
       "      <td>quantity_group_seasonal</td>\n",
       "      <td>1</td>\n",
       "    </tr>\n",
       "    <tr>\n",
       "      <th>29</th>\n",
       "      <td>quantity_group_insufficient</td>\n",
       "      <td>1</td>\n",
       "    </tr>\n",
       "    <tr>\n",
       "      <th>...</th>\n",
       "      <td>...</td>\n",
       "      <td>...</td>\n",
       "    </tr>\n",
       "    <tr>\n",
       "      <th>59</th>\n",
       "      <td>scheme_management_wug</td>\n",
       "      <td>1</td>\n",
       "    </tr>\n",
       "    <tr>\n",
       "      <th>60</th>\n",
       "      <td>scheme_management_wua</td>\n",
       "      <td>1</td>\n",
       "    </tr>\n",
       "    <tr>\n",
       "      <th>61</th>\n",
       "      <td>scheme_management_wtr_brd</td>\n",
       "      <td>1</td>\n",
       "    </tr>\n",
       "    <tr>\n",
       "      <th>62</th>\n",
       "      <td>scheme_management_wtr_auth</td>\n",
       "      <td>1</td>\n",
       "    </tr>\n",
       "    <tr>\n",
       "      <th>63</th>\n",
       "      <td>scheme_management_vwc</td>\n",
       "      <td>1</td>\n",
       "    </tr>\n",
       "    <tr>\n",
       "      <th>64</th>\n",
       "      <td>scheme_management_other</td>\n",
       "      <td>1</td>\n",
       "    </tr>\n",
       "    <tr>\n",
       "      <th>65</th>\n",
       "      <td>basin_Rufiji</td>\n",
       "      <td>1</td>\n",
       "    </tr>\n",
       "    <tr>\n",
       "      <th>66</th>\n",
       "      <td>public_meeting_True</td>\n",
       "      <td>1</td>\n",
       "    </tr>\n",
       "    <tr>\n",
       "      <th>67</th>\n",
       "      <td>public_meeting_False</td>\n",
       "      <td>1</td>\n",
       "    </tr>\n",
       "    <tr>\n",
       "      <th>68</th>\n",
       "      <td>public_meeting_Unknown</td>\n",
       "      <td>1</td>\n",
       "    </tr>\n",
       "    <tr>\n",
       "      <th>69</th>\n",
       "      <td>basin_Wami / Ruvu</td>\n",
       "      <td>1</td>\n",
       "    </tr>\n",
       "    <tr>\n",
       "      <th>70</th>\n",
       "      <td>water_quality_milky</td>\n",
       "      <td>2</td>\n",
       "    </tr>\n",
       "    <tr>\n",
       "      <th>71</th>\n",
       "      <td>source_type_dam</td>\n",
       "      <td>2</td>\n",
       "    </tr>\n",
       "    <tr>\n",
       "      <th>72</th>\n",
       "      <td>payment_type_on failure</td>\n",
       "      <td>3</td>\n",
       "    </tr>\n",
       "    <tr>\n",
       "      <th>73</th>\n",
       "      <td>funder_hesawa</td>\n",
       "      <td>4</td>\n",
       "    </tr>\n",
       "    <tr>\n",
       "      <th>74</th>\n",
       "      <td>construction_year_60s</td>\n",
       "      <td>5</td>\n",
       "    </tr>\n",
       "    <tr>\n",
       "      <th>75</th>\n",
       "      <td>management_group_parastatal</td>\n",
       "      <td>6</td>\n",
       "    </tr>\n",
       "    <tr>\n",
       "      <th>76</th>\n",
       "      <td>water_quality_salty abandoned</td>\n",
       "      <td>7</td>\n",
       "    </tr>\n",
       "    <tr>\n",
       "      <th>77</th>\n",
       "      <td>management_group_unknown</td>\n",
       "      <td>8</td>\n",
       "    </tr>\n",
       "    <tr>\n",
       "      <th>78</th>\n",
       "      <td>management_group_other</td>\n",
       "      <td>9</td>\n",
       "    </tr>\n",
       "    <tr>\n",
       "      <th>79</th>\n",
       "      <td>extraction_type_class_rope pump</td>\n",
       "      <td>10</td>\n",
       "    </tr>\n",
       "    <tr>\n",
       "      <th>80</th>\n",
       "      <td>payment_type_other</td>\n",
       "      <td>12</td>\n",
       "    </tr>\n",
       "    <tr>\n",
       "      <th>81</th>\n",
       "      <td>installer_danida</td>\n",
       "      <td>12</td>\n",
       "    </tr>\n",
       "    <tr>\n",
       "      <th>82</th>\n",
       "      <td>water_quality_fluoride</td>\n",
       "      <td>12</td>\n",
       "    </tr>\n",
       "    <tr>\n",
       "      <th>83</th>\n",
       "      <td>source_class_unknown</td>\n",
       "      <td>14</td>\n",
       "    </tr>\n",
       "    <tr>\n",
       "      <th>84</th>\n",
       "      <td>water_quality_coloured</td>\n",
       "      <td>15</td>\n",
       "    </tr>\n",
       "    <tr>\n",
       "      <th>85</th>\n",
       "      <td>extraction_type_class_wind-powered</td>\n",
       "      <td>16</td>\n",
       "    </tr>\n",
       "    <tr>\n",
       "      <th>86</th>\n",
       "      <td>waterpoint_type_group_cattle trough</td>\n",
       "      <td>16</td>\n",
       "    </tr>\n",
       "    <tr>\n",
       "      <th>87</th>\n",
       "      <td>waterpoint_type_group_dam</td>\n",
       "      <td>18</td>\n",
       "    </tr>\n",
       "    <tr>\n",
       "      <th>88</th>\n",
       "      <td>water_quality_fluoride abandoned</td>\n",
       "      <td>19</td>\n",
       "    </tr>\n",
       "  </tbody>\n",
       "</table>\n",
       "<p>89 rows × 2 columns</p>\n",
       "</div>"
      ],
      "text/plain": [
       "                                           0  rank\n",
       "0                                 amount_tsh     1\n",
       "1                     payment_type_never pay     1\n",
       "2                       payment_type_monthly     1\n",
       "3                      payment_type_annually     1\n",
       "4                management_group_user-group     1\n",
       "5                management_group_commercial     1\n",
       "6          extraction_type_class_submersible     1\n",
       "7                    payment_type_per bucket     1\n",
       "8                extraction_type_class_other     1\n",
       "9      waterpoint_type_group_improved spring     1\n",
       "10             extraction_type_class_gravity     1\n",
       "11                 construction_year_unknown     1\n",
       "12                     construction_year_90s     1\n",
       "13                     construction_year_80s     1\n",
       "14                     construction_year_70s     1\n",
       "15           extraction_type_class_motorpump     1\n",
       "16                     construction_year_10s     1\n",
       "17                      payment_type_unknown     1\n",
       "18                        water_quality_soft     1\n",
       "19  waterpoint_type_group_communal standpipe     1\n",
       "20                      source_class_surface     1\n",
       "21                  source_class_groundwater     1\n",
       "22                        source_type_spring     1\n",
       "23                  source_type_shallow well     1\n",
       "24                    source_type_river/lake     1\n",
       "25                       water_quality_salty     1\n",
       "26          source_type_rainwater harvesting     1\n",
       "27                    quantity_group_unknown     1\n",
       "28                   quantity_group_seasonal     1\n",
       "29               quantity_group_insufficient     1\n",
       "..                                       ...   ...\n",
       "59                     scheme_management_wug     1\n",
       "60                     scheme_management_wua     1\n",
       "61                 scheme_management_wtr_brd     1\n",
       "62                scheme_management_wtr_auth     1\n",
       "63                     scheme_management_vwc     1\n",
       "64                   scheme_management_other     1\n",
       "65                              basin_Rufiji     1\n",
       "66                       public_meeting_True     1\n",
       "67                      public_meeting_False     1\n",
       "68                    public_meeting_Unknown     1\n",
       "69                         basin_Wami / Ruvu     1\n",
       "70                       water_quality_milky     2\n",
       "71                           source_type_dam     2\n",
       "72                   payment_type_on failure     3\n",
       "73                             funder_hesawa     4\n",
       "74                     construction_year_60s     5\n",
       "75               management_group_parastatal     6\n",
       "76             water_quality_salty abandoned     7\n",
       "77                  management_group_unknown     8\n",
       "78                    management_group_other     9\n",
       "79           extraction_type_class_rope pump    10\n",
       "80                        payment_type_other    12\n",
       "81                          installer_danida    12\n",
       "82                    water_quality_fluoride    12\n",
       "83                      source_class_unknown    14\n",
       "84                    water_quality_coloured    15\n",
       "85        extraction_type_class_wind-powered    16\n",
       "86       waterpoint_type_group_cattle trough    16\n",
       "87                 waterpoint_type_group_dam    18\n",
       "88          water_quality_fluoride abandoned    19\n",
       "\n",
       "[89 rows x 2 columns]"
      ]
     },
     "execution_count": 798,
     "metadata": {},
     "output_type": "execute_result"
    }
   ],
   "source": [
    "features1=pd.DataFrame(features.columns.tolist())\n",
    "features1['rank']=boruta_selector.ranking_\n",
    "features1 = features1.sort_values('rank', ascending=True).reset_index(drop=True)\n",
    "features1"
   ]
  },
  {
   "cell_type": "code",
   "execution_count": 802,
   "metadata": {},
   "outputs": [],
   "source": [
    "#columns are dropped. For these columns Boruta didnt predcit the rank 1\n",
    "features=features.drop(['water_quality_milky'\n",
    "    ,'source_type_dam'\n",
    "    ,'payment_type_on failure'\n",
    "    ,'funder_hesawa'\n",
    "    ,'construction_year_60s'\n",
    "    ,'management_group_parastatal'\n",
    "    ,'water_quality_salty abandoned'\n",
    "    ,'management_group_unknown'\n",
    "    ,'management_group_other'\n",
    "    ,'extraction_type_class_rope pump'\n",
    "    ,'payment_type_other'\n",
    "    ,'installer_danida'\n",
    "    ,'water_quality_fluoride'\n",
    "    ,'source_class_unknown'\n",
    "    ,'water_quality_coloured'\n",
    "    ,'extraction_type_class_wind-powered'\n",
    "    ,'waterpoint_type_group_cattle trough'\n",
    "    ,'waterpoint_type_group_dam'\n",
    "    ,'water_quality_fluoride abandoned'],axis=1)\n",
    "\n",
    "\n",
    "test=test.drop(['water_quality_milky'\n",
    "    ,'source_type_dam'\n",
    "    ,'payment_type_on failure'\n",
    "    ,'funder_hesawa'\n",
    "    ,'construction_year_60s'\n",
    "    ,'management_group_parastatal'\n",
    "    ,'water_quality_salty abandoned'\n",
    "    ,'management_group_unknown'\n",
    "    ,'management_group_other'\n",
    "    ,'extraction_type_class_rope pump'\n",
    "    ,'payment_type_other'\n",
    "    ,'installer_danida'\n",
    "    ,'water_quality_fluoride'\n",
    "    ,'source_class_unknown'\n",
    "    ,'water_quality_coloured'\n",
    "    ,'extraction_type_class_wind-powered'\n",
    "    ,'waterpoint_type_group_cattle trough'\n",
    "    ,'waterpoint_type_group_dam'\n",
    "    ,'water_quality_fluoride abandoned'],axis=1)\n",
    "\n",
    "X_train, X_val, y_train, y_val = train_test_split(features, target, train_size=0.8)"
   ]
  },
  {
   "cell_type": "code",
   "execution_count": null,
   "metadata": {},
   "outputs": [],
   "source": [
    "def Linear_svc_model(X_train, X_val, y_train, y_val, test):\n",
    "    if __name__ == '__main__':\n",
    "        \n",
    "        #scl = StandardScaler()\n",
    "        clf = LinearSVC()\n",
    "        \n",
    "        parameters = {'C':[0.001,0.01,0.1,1.0,10.0,100.0],'class_weight':[None, 'balanced']}\n",
    "\n",
    "        estimator = GridSearchCV(clf, parameters,n_jobs=-1)\n",
    "\n",
    "        estimator.fit(X_train, y_train)\n",
    "\n",
    "        best_params = estimator.best_params_\n",
    "                                 \n",
    "        validation_accuracy = estimator.score(X_val, y_val)\n",
    "        print('Validation accuracy: ', validation_accuracy)\n",
    "        print(best_params)"
   ]
  },
  {
   "cell_type": "code",
   "execution_count": null,
   "metadata": {},
   "outputs": [],
   "source": [
    "#Linear_svc_model(X_train, X_val, y_train, y_val, test)"
   ]
  },
  {
   "cell_type": "code",
   "execution_count": 803,
   "metadata": {},
   "outputs": [],
   "source": [
    "def GradientBoostingClassifier_random_forest_model(X_train, X_val, y_train, y_val, test):\n",
    "    if __name__ == '__main__':\n",
    "        \n",
    "        rf = RandomForestClassifier(criterion='gini',\n",
    "                                n_estimators=500,\n",
    "                                max_features='auto',\n",
    "                                oob_score=True,\n",
    "                                random_state=1,\n",
    "                                n_jobs=-1)\n",
    "\n",
    "        \n",
    "        param_grid = {\"min_samples_split\" : [6,7,8],\n",
    "             \"n_estimators\" : [500,700,1000]}\n",
    "\n",
    "        estimator = GridSearchCV(estimator=rf,\n",
    "                  param_grid=param_grid,\n",
    "                  scoring='accuracy',\n",
    "                  cv=2,\n",
    "                  n_jobs=-1)\n",
    "\n",
    "        \n",
    "        estimator.fit(X_train, y_train)\n",
    "\n",
    "        best_params = estimator.best_params_\n",
    "                                 \n",
    "        validation_accuracy = estimator.score(X_val, y_val)\n",
    "        print('Validation accuracy: ', validation_accuracy)\n",
    "        print(best_params)"
   ]
  },
  {
   "cell_type": "code",
   "execution_count": 814,
   "metadata": {},
   "outputs": [],
   "source": [
    "GradientBoostingClassifier_random_forest_model(X_train, X_val, y_train, y_val, test)"
   ]
  },
  {
   "cell_type": "code",
   "execution_count": 812,
   "metadata": {},
   "outputs": [],
   "source": [
    "def GradientBoostingClassifier_model(X_train, X_val, y_train, y_val, test):\n",
    "    if __name__ == '__main__':\n",
    "        \n",
    "        \n",
    "        gb = GradientBoostingClassifier()\n",
    "        \n",
    "        parameters = {'learning_rate': [0.7],\n",
    "                      'max_depth': [14],\n",
    "                      'min_samples_leaf': [16],\n",
    "                      'max_features': [1.0],\n",
    "                      'n_estimators': [200]}\n",
    "        \n",
    "        estimator = GridSearchCV(gb,n_jobs=-1,param_grid=parameters)\n",
    "        #parameters = {'learning_rate': [0.7],\n",
    "        #              'max_depth': [14],\n",
    "        #              'min_samples_leaf': [16],\n",
    "        #              'max_features': [1.0],\n",
    "        #              'n_estimators': [200]}\n",
    "        \n",
    "        estimator.fit(X_train, y_train)\n",
    "\n",
    "        best_params = estimator.best_params_\n",
    "                                 \n",
    "        validation_accuracy = estimator.score(X_val, y_val)\n",
    "        print('Validation accuracy: ', validation_accuracy)\n",
    "        print(best_params)"
   ]
  },
  {
   "cell_type": "code",
   "execution_count": 815,
   "metadata": {},
   "outputs": [],
   "source": [
    "GradientBoostingClassifier_model(X_train, X_val, y_train, y_val, test)"
   ]
  },
  {
   "cell_type": "code",
   "execution_count": null,
   "metadata": {},
   "outputs": [],
   "source": [
    "test_id = pd.DataFrame\n",
    "test_id=test_copy['id']"
   ]
  },
  {
   "cell_type": "code",
   "execution_count": 808,
   "metadata": {},
   "outputs": [],
   "source": [
    "def model_for_submission(features, target, test):\n",
    "    if __name__ == '__main__':\n",
    "\n",
    "        rf = RandomForestClassifier(criterion='gini',\n",
    "                                n_estimators=500,\n",
    "                                max_features='auto',\n",
    "                                oob_score=True,\n",
    "                                random_state=1,\n",
    "                                n_jobs=-1)\n",
    "\n",
    "        \n",
    "        param_grid = {\"min_samples_split\" : [8],\n",
    "             \"n_estimators\" : [1000]}\n",
    "\n",
    "        estimator = GridSearchCV(estimator=rf,\n",
    "                  param_grid=param_grid,\n",
    "                  scoring='accuracy',\n",
    "                  cv=2,\n",
    "                  n_jobs=-1)\n",
    "\n",
    "        estimator.fit(features, target)        \n",
    "\n",
    "        predictions = estimator.predict(test)\n",
    "\n",
    "        data = {'ID': test_id, 'status_group': predictions}\n",
    "\n",
    "        submit = pd.DataFrame(data=data)\n",
    "\n",
    "        vals_to_replace = {2:'functional', 1:'functional needs repair',\n",
    "                           0:'non functional'}\n",
    "\n",
    "        submit.status_group = submit.status_group.replace(vals_to_replace)        \n",
    "\n",
    "        submit.to_csv('Submission_file.csv', index=False)"
   ]
  },
  {
   "cell_type": "code",
   "execution_count": 809,
   "metadata": {},
   "outputs": [],
   "source": [
    "# Run model for submission.\n",
    "model_for_submission(features, target, test)"
   ]
  },
  {
   "cell_type": "code",
   "execution_count": null,
   "metadata": {},
   "outputs": [],
   "source": []
  }
 ],
 "metadata": {
  "kernelspec": {
   "display_name": "Python 3",
   "language": "python",
   "name": "python3"
  },
  "language_info": {
   "codemirror_mode": {
    "name": "ipython",
    "version": 3
   },
   "file_extension": ".py",
   "mimetype": "text/x-python",
   "name": "python",
   "nbconvert_exporter": "python",
   "pygments_lexer": "ipython3",
   "version": "3.5.2"
  }
 },
 "nbformat": 4,
 "nbformat_minor": 2
}
